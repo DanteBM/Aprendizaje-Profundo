{
  "nbformat": 4,
  "nbformat_minor": 5,
  "metadata": {
    "kernelspec": {
      "display_name": "Python 3",
      "language": "python",
      "name": "python3"
    },
    "language_info": {
      "codemirror_mode": {
        "name": "ipython",
        "version": 3
      },
      "file_extension": ".py",
      "mimetype": "text/x-python",
      "name": "python",
      "nbconvert_exporter": "python",
      "pygments_lexer": "ipython3",
      "version": "3.8.5"
    },
    "colab": {
      "name": "tarea1d-ap.ipynb",
      "provenance": [],
      "include_colab_link": true
    }
  },
  "cells": [
    {
      "cell_type": "markdown",
      "metadata": {
        "id": "view-in-github",
        "colab_type": "text"
      },
      "source": [
        "<a href=\"https://colab.research.google.com/github/DanteBM/Aprendizaje-Profundo/blob/main/tareas/tarea1/tarea1d_ap.ipynb\" target=\"_parent\"><img src=\"https://colab.research.google.com/assets/colab-badge.svg\" alt=\"Open In Colab\"/></a>"
      ]
    },
    {
      "cell_type": "code",
      "metadata": {
        "id": "hazardous-operator"
      },
      "source": [
        "import matplotlib.pyplot as plt\n",
        "plt.style.use(\"ggplot\")\n",
        "\n",
        "import numpy as np\n",
        "\n",
        "from sklearn.model_selection import train_test_split\n",
        "\n",
        "import torch\n",
        "\n",
        "import torch.nn as nn\n",
        "import torch.nn.functional as F\n",
        "import torch.optim as optim\n",
        "from torch.utils.data import DataLoader, TensorDataset\n",
        "from torchvision.datasets import CIFAR10\n",
        "\n",
        "import torchvision.transforms as T\n",
        "from tqdm import trange\n",
        "\n",
        "import random\n",
        "# tomar n elementos de una secuencia\n",
        "from itertools import islice as take"
      ],
      "id": "hazardous-operator",
      "execution_count": null,
      "outputs": []
    },
    {
      "cell_type": "markdown",
      "metadata": {
        "id": "peripheral-breed"
      },
      "source": [
        "## Pregunta 4: CIFAR 10\n",
        "> Entrena una red completamente conectada para clasificación multiclase en el conjunto CIFAR10. Puedes usar todas las herramientas de PyTorch. (3 puntos.)"
      ],
      "id": "peripheral-breed"
    },
    {
      "cell_type": "code",
      "metadata": {
        "id": "passive-latvia",
        "outputId": "2bb24258-b9ef-43fd-dd26-de3619b6ffc9"
      },
      "source": [
        "images_path = \"../datasets\"\n",
        "cifar_train_ds = CIFAR10(root=images_path, train=True, \n",
        "                      download=True, transform=T.ToTensor())\n",
        "cifar_test_ds = CIFAR10(root=images_path, train=False, \n",
        "                     download=True, transform=T.ToTensor())"
      ],
      "id": "passive-latvia",
      "execution_count": null,
      "outputs": [
        {
          "output_type": "stream",
          "text": [
            "Files already downloaded and verified\n",
            "Files already downloaded and verified\n"
          ],
          "name": "stdout"
        }
      ]
    },
    {
      "cell_type": "code",
      "metadata": {
        "id": "diverse-universe"
      },
      "source": [
        "# tamaño del lote\n",
        "BATCH_SIZE = 32\n",
        "\n",
        "# filas y columnas de la regilla de imágenes\n",
        "ROWS, COLS = 4, 8\n",
        "\n",
        "\n",
        "def display_grid(xs, titles, rows, cols, figsize=(12, 6)):\n",
        "    \"\"\"Displays examples in a grid.\"\"\"\n",
        "    fig, ax = plt.subplots(rows, cols, figsize=figsize)\n",
        "    i = 0\n",
        "    for r in range(rows):\n",
        "        for c in range(cols):\n",
        "            ax[r, c].imshow(xs[i], cmap='gray')\n",
        "            ax[r, c].set_title(titles[i])\n",
        "            ax[r, c].set_xticklabels([])\n",
        "            ax[r, c].set_yticklabels([])\n",
        "            i += 1\n",
        "    fig.tight_layout()\n",
        "    plt.show()\n",
        "\n",
        "\n",
        "def display_batch(x, titles, rows, cols, figsize=(12, 6)):\n",
        "    \"\"\"Displays a batch of processed examples in a grid.\"\"\"\n",
        "    # denormalizamos [0, 1] => [0, 255]\n",
        "    x *= 255\n",
        "    # rotamos canales (C x H x W) => (H x W x C)\n",
        "    # (batch x C x H x W)\n",
        "    x = x.permute(0, 2, 3, 1)\n",
        "    # convertimos a entero\n",
        "    x = (x.numpy()).astype(np.uint8)\n",
        "    # aplanamos canal\n",
        "    x = x.reshape(*x.shape[:4])\n",
        "    # desplegamos\n",
        "    display_grid(x, titles, rows, cols, figsize)\n",
        "\n",
        "    \n",
        "def set_seed(seed=0):\n",
        "    \"\"\"Initializes pseudo-random number generators.\"\"\"\n",
        "    random.seed(seed)\n",
        "    np.random.seed(seed)\n",
        "    torch.manual_seed(seed)\n",
        "\n",
        "    \n",
        "# reproducibilidad\n",
        "set_seed(42)"
      ],
      "id": "diverse-universe",
      "execution_count": null,
      "outputs": []
    },
    {
      "cell_type": "code",
      "metadata": {
        "id": "scenic-acoustic",
        "outputId": "e558ee8a-9713-4e70-e00e-a503da6bb95d"
      },
      "source": [
        "# creamos un DataLoader\n",
        "cifar_train_dl = DataLoader(\n",
        "    # conjunto\n",
        "    cifar_train_ds,\n",
        "    # tamaño del lote\n",
        "    batch_size=BATCH_SIZE,\n",
        "    # desordenar\n",
        "    shuffle=True\n",
        ")\n",
        "\n",
        "# desplegamos un lote de imágenes\n",
        "x, y = next(iter(cifar_train_dl))\n",
        "print(f'x shape={x.shape} dtype={x.dtype}')\n",
        "print(f'y shape={y.shape} dtype={y.dtype}')\n",
        "display_batch(x, y.tolist(), ROWS, COLS)"
      ],
      "id": "scenic-acoustic",
      "execution_count": null,
      "outputs": [
        {
          "output_type": "stream",
          "text": [
            "x shape=torch.Size([32, 3, 32, 32]) dtype=torch.float32\n",
            "y shape=torch.Size([32]) dtype=torch.int64\n"
          ],
          "name": "stdout"
        },
        {
          "output_type": "display_data",
          "data": {
            "image/png": "[encoded data removed]",
            "text/plain": [
              "<Figure size 864x432 with 32 Axes>"
            ]
          },
          "metadata": {
            "tags": []
          }
        }
      ]
    },
    {
      "cell_type": "markdown",
      "metadata": {
        "id": "mature-stone"
      },
      "source": [
        "## Creación de dataloaders"
      ],
      "id": "mature-stone"
    },
    {
      "cell_type": "code",
      "metadata": {
        "id": "northern-breast"
      },
      "source": [
        "cifar_train_dl = DataLoader(\n",
        "    # conjunto\n",
        "    cifar_train_ds,\n",
        "    # tamaño del lote\n",
        "    batch_size=BATCH_SIZE,\n",
        "    # desordenar\n",
        "    shuffle=True\n",
        ")\n",
        "\n",
        "cifar_test_dl = DataLoader(\n",
        "    # conjunto\n",
        "    cifar_test_ds,\n",
        "    # tamaño del lote\n",
        "    batch_size=BATCH_SIZE,\n",
        "    # desordenar\n",
        "    shuffle=True\n",
        ")"
      ],
      "id": "northern-breast",
      "execution_count": null,
      "outputs": []
    },
    {
      "cell_type": "markdown",
      "metadata": {
        "id": "favorite-spread"
      },
      "source": [
        "## Funciones auxiliares para entrenamiento"
      ],
      "id": "favorite-spread"
    },
    {
      "cell_type": "code",
      "metadata": {
        "id": "stylish-instrumentation",
        "outputId": "bb336812-e2a7-49f2-aacf-4315923e4138"
      },
      "source": [
        "dev = torch.device('cuda:0' if torch.cuda.is_available() else 'cpu')\n",
        "dev # uso de GPU"
      ],
      "id": "stylish-instrumentation",
      "execution_count": null,
      "outputs": [
        {
          "output_type": "execute_result",
          "data": {
            "text/plain": [
              "device(type='cuda', index=0)"
            ]
          },
          "metadata": {
            "tags": []
          },
          "execution_count": 6
        }
      ]
    },
    {
      "cell_type": "code",
      "metadata": {
        "id": "injured-treasury"
      },
      "source": [
        "def train_epoch(dl, model, opt):\n",
        "\n",
        "    # por cada lote\n",
        "    for x, y_true in dl:\n",
        "        x, y_true = x.to(dev), y_true.to(dev)\n",
        "        \n",
        "        # computamos logits\n",
        "        y_lgts = model(x)\n",
        "        \n",
        "        # computamos la pérdida\n",
        "        loss = F.cross_entropy(y_lgts, y_true)\n",
        "        \n",
        "        # vaciamos los gradientes\n",
        "        opt.zero_grad()\n",
        "        \n",
        "        # retropropagamos\n",
        "        loss.backward()\n",
        "        \n",
        "        # actualizamos parámetros\n",
        "        opt.step()\n",
        "\n",
        "\n",
        "def eval_epoch(dl, model, num_batches=None):\n",
        "\n",
        "    # evitamos que se registren las operaciones \n",
        "    # en la gráfica de cómputo\n",
        "    with torch.no_grad():\n",
        "\n",
        "        # historiales\n",
        "        losses, accs = [], []\n",
        "\n",
        "        # validación de la época con num_batches\n",
        "        # si num_batches==None, se usan todos los lotes\n",
        "        for x, y_true in take(dl, num_batches):\n",
        "            x, y_true = x.to(dev), y_true.to(dev)\n",
        "            \n",
        "            # computamos los logits\n",
        "            y_lgts = model(x)\n",
        "\n",
        "            # computamos los puntajes\n",
        "            y_prob = F.softmax(y_lgts, 1)\n",
        "\n",
        "            # computamos la clases\n",
        "            y_pred = torch.argmax(y_prob, 1)\n",
        "\n",
        "            # computamos la pérdida\n",
        "            loss = F.cross_entropy(y_lgts, y_true)\n",
        "\n",
        "            # computamos la exactitud\n",
        "            acc = (y_true == y_pred).type(torch.float32).mean()\n",
        "\n",
        "            # guardamos históricos\n",
        "            losses.append(loss.item())\n",
        "            accs.append(acc.item())\n",
        "\n",
        "        # promediamos\n",
        "        loss = np.mean(losses) * 100\n",
        "        acc = np.mean(accs) * 100\n",
        "\n",
        "        return loss, acc\n",
        "        \n",
        "        \n",
        "def train(model, trn_dl, tst_dl, lr=1e-3, epochs=20,\n",
        "          trn_batches=None, tst_batches=None):\n",
        "\n",
        "    # historiales\n",
        "    loss_hist, acc_hist = [], []\n",
        "    \n",
        "    # optimizador\n",
        "    opt = optim.SGD(model.parameters(), lr=lr)\n",
        "\n",
        "    # ciclo de entrenamiento\n",
        "    for epoch in trange(epochs):\n",
        "\n",
        "        # entrenamos la época\n",
        "        train_epoch(trn_dl, model, opt)\n",
        "\n",
        "        # evaluamos la época en entrenamiento\n",
        "        trn_loss, trn_acc = eval_epoch(trn_dl, model, trn_batches)\n",
        "        # evaluamos la época en prueba\n",
        "        tst_loss, tst_acc = eval_epoch(tst_dl, model, tst_batches)\n",
        "\n",
        "        # guardamos historial\n",
        "        loss_hist.append([trn_loss, tst_loss])\n",
        "        acc_hist.append([trn_acc, tst_acc])\n",
        "\n",
        "        # imprimimos progreso\n",
        "        print(f'E{epoch:02} '\n",
        "              f'loss=[{trn_loss:6.2f},{tst_loss:6.2f}] '\n",
        "              f'acc=[{trn_acc:5.2f},{tst_acc:5.2f}]')\n",
        "\n",
        "    return loss_hist, acc_hist"
      ],
      "id": "injured-treasury",
      "execution_count": null,
      "outputs": []
    },
    {
      "cell_type": "code",
      "metadata": {
        "id": "informative-category"
      },
      "source": [
        "def plot_evaluation(loss_hist, acc_hist):\n",
        "    fig, ax = plt.subplots(ncols=2, figsize=(16,9))\n",
        "    trn_loss, tst_loss = zip(*loss_hist)\n",
        "    ax[0].plot(trn_loss, 'tab:orange', label='train loss')\n",
        "    ax[0].plot(tst_loss, 'tab:red', label='test loss')\n",
        "    ax[0].legend(loc='upper right')\n",
        "    ax[0].set_xlabel('época')\n",
        "    ax[0].set_ylabel('pérdida')\n",
        "    \n",
        "    trn_acc, tst_acc = zip(*acc_hist)\n",
        "    ax[1].plot(trn_acc, 'tab:green', label='train acc')\n",
        "    ax[1].plot(tst_acc, 'tab:blue', label='test acc')\n",
        "    ax[1].legend(loc='lower right')\n",
        "    ax[1].set_xlabel('época')\n",
        "    ax[1].set_ylabel('exactitud')\n",
        "    plt.show()"
      ],
      "id": "informative-category",
      "execution_count": null,
      "outputs": []
    },
    {
      "cell_type": "markdown",
      "metadata": {
        "id": "sought-victor"
      },
      "source": [
        "## Modelos"
      ],
      "id": "sought-victor"
    },
    {
      "cell_type": "markdown",
      "metadata": {
        "id": "cardiovascular-evaluation"
      },
      "source": [
        "### Modelo 1: minimalista"
      ],
      "id": "cardiovascular-evaluation"
    },
    {
      "cell_type": "code",
      "metadata": {
        "id": "surrounded-liberal"
      },
      "source": [
        "class CIFAR10Model1(nn.Module):\n",
        "    \n",
        "    # inicializador\n",
        "    def __init__(self):\n",
        "        \n",
        "        # inicilización del objeto padre, obligatorio\n",
        "        super().__init__()\n",
        "        \n",
        "        # tamaño de las capas\n",
        "        self.I = 3 * 32 * 32\n",
        "        FC1 = 128\n",
        "        n_classes = 10\n",
        "        \n",
        "        # definición de capas\n",
        "        self.cls = nn.Sequential(\n",
        "            \n",
        "            # fc1\n",
        "            # [M, 1x28x28] => [M, 128]\n",
        "            nn.Linear(self.I, FC1),\n",
        "            nn.Sigmoid(),\n",
        "            \n",
        "            # fc2\n",
        "            # [M, 128] => [M, 10]\n",
        "            nn.Linear(FC1, n_classes)\n",
        "        \n",
        "        )\n",
        "    \n",
        "    # método para inferencia\n",
        "    def forward(self, x):\n",
        "        \n",
        "        # aplanamos los pixeles de la imagen\n",
        "        # [M, 1, 28, 28] => [M, 1x28x28]\n",
        "        x = x.view(-1, self.I)\n",
        "        \n",
        "        # inferencia\n",
        "        # [M, 1x28x28]\n",
        "        x = self.cls(x)\n",
        "        \n",
        "        return x"
      ],
      "id": "surrounded-liberal",
      "execution_count": null,
      "outputs": []
    },
    {
      "cell_type": "code",
      "metadata": {
        "id": "thrown-duncan",
        "outputId": "5af4a88c-ffd3-4030-e193-0d8aad870c82"
      },
      "source": [
        "# instanciamos un modelo\n",
        "cifar_model1 = CIFAR10Model1().to(dev)\n",
        "# entrenamos\n",
        "loss_hist, acc_hist = train(cifar_model1, cifar_train_dl, cifar_test_dl, epochs=100)"
      ],
      "id": "thrown-duncan",
      "execution_count": null,
      "outputs": [
        {
          "output_type": "stream",
          "text": [
            "  1%|          | 1/100 [00:17<28:04, 17.01s/it]"
          ],
          "name": "stderr"
        },
        {
          "output_type": "stream",
          "text": [
            "E00 loss=[226.83,226.79] acc=[21.31,21.56]\n"
          ],
          "name": "stdout"
        },
        {
          "output_type": "stream",
          "text": [
            "  2%|▏         | 2/100 [00:28<22:33, 13.81s/it]"
          ],
          "name": "stderr"
        },
        {
          "output_type": "stream",
          "text": [
            "E01 loss=[223.54,223.49] acc=[24.78,25.51]\n"
          ],
          "name": "stdout"
        },
        {
          "output_type": "stream",
          "text": [
            "  3%|▎         | 3/100 [00:40<20:42, 12.81s/it]"
          ],
          "name": "stderr"
        },
        {
          "output_type": "stream",
          "text": [
            "E02 loss=[220.27,220.23] acc=[27.04,27.21]\n"
          ],
          "name": "stdout"
        },
        {
          "output_type": "stream",
          "text": [
            "  4%|▍         | 4/100 [00:51<19:30, 12.19s/it]"
          ],
          "name": "stderr"
        },
        {
          "output_type": "stream",
          "text": [
            "E03 loss=[217.03,216.99] acc=[26.88,26.89]\n"
          ],
          "name": "stdout"
        },
        {
          "output_type": "stream",
          "text": [
            "  5%|▌         | 5/100 [01:02<18:36, 11.75s/it]"
          ],
          "name": "stderr"
        },
        {
          "output_type": "stream",
          "text": [
            "E04 loss=[213.84,213.83] acc=[29.05,29.40]\n"
          ],
          "name": "stdout"
        },
        {
          "output_type": "stream",
          "text": [
            "  6%|▌         | 6/100 [01:13<18:01, 11.50s/it]"
          ],
          "name": "stderr"
        },
        {
          "output_type": "stream",
          "text": [
            "E05 loss=[210.97,210.96] acc=[29.49,29.36]\n"
          ],
          "name": "stdout"
        },
        {
          "output_type": "stream",
          "text": [
            "  7%|▋         | 7/100 [01:24<17:38, 11.38s/it]"
          ],
          "name": "stderr"
        },
        {
          "output_type": "stream",
          "text": [
            "E06 loss=[208.41,208.38] acc=[29.70,30.10]\n"
          ],
          "name": "stdout"
        },
        {
          "output_type": "stream",
          "text": [
            "  8%|▊         | 8/100 [01:35<17:13, 11.24s/it]"
          ],
          "name": "stderr"
        },
        {
          "output_type": "stream",
          "text": [
            "E07 loss=[206.13,206.10] acc=[30.16,30.30]\n"
          ],
          "name": "stdout"
        },
        {
          "output_type": "stream",
          "text": [
            "  9%|▉         | 9/100 [01:46<16:57, 11.18s/it]"
          ],
          "name": "stderr"
        },
        {
          "output_type": "stream",
          "text": [
            "E08 loss=[204.13,204.09] acc=[30.82,30.97]\n"
          ],
          "name": "stdout"
        },
        {
          "output_type": "stream",
          "text": [
            " 10%|█         | 10/100 [01:57<16:46, 11.18s/it]"
          ],
          "name": "stderr"
        },
        {
          "output_type": "stream",
          "text": [
            "E09 loss=[202.30,202.25] acc=[30.81,30.64]\n"
          ],
          "name": "stdout"
        },
        {
          "output_type": "stream",
          "text": [
            " 11%|█         | 11/100 [02:08<16:31, 11.14s/it]"
          ],
          "name": "stderr"
        },
        {
          "output_type": "stream",
          "text": [
            "E10 loss=[200.68,200.64] acc=[31.05,30.82]\n"
          ],
          "name": "stdout"
        },
        {
          "output_type": "stream",
          "text": [
            " 12%|█▏        | 12/100 [02:19<16:19, 11.13s/it]"
          ],
          "name": "stderr"
        },
        {
          "output_type": "stream",
          "text": [
            "E11 loss=[199.19,199.17] acc=[31.23,30.86]\n"
          ],
          "name": "stdout"
        },
        {
          "output_type": "stream",
          "text": [
            " 13%|█▎        | 13/100 [02:30<16:05, 11.10s/it]"
          ],
          "name": "stderr"
        },
        {
          "output_type": "stream",
          "text": [
            "E12 loss=[197.89,197.85] acc=[31.36,31.16]\n"
          ],
          "name": "stdout"
        },
        {
          "output_type": "stream",
          "text": [
            " 14%|█▍        | 14/100 [02:41<15:50, 11.05s/it]"
          ],
          "name": "stderr"
        },
        {
          "output_type": "stream",
          "text": [
            "E13 loss=[196.63,196.61] acc=[31.92,31.63]\n"
          ],
          "name": "stdout"
        },
        {
          "output_type": "stream",
          "text": [
            " 15%|█▌        | 15/100 [02:52<15:35, 11.00s/it]"
          ],
          "name": "stderr"
        },
        {
          "output_type": "stream",
          "text": [
            "E14 loss=[195.58,195.57] acc=[31.89,31.68]\n"
          ],
          "name": "stdout"
        },
        {
          "output_type": "stream",
          "text": [
            " 16%|█▌        | 16/100 [03:04<15:35, 11.14s/it]"
          ],
          "name": "stderr"
        },
        {
          "output_type": "stream",
          "text": [
            "E15 loss=[194.55,194.56] acc=[32.43,32.13]\n"
          ],
          "name": "stdout"
        },
        {
          "output_type": "stream",
          "text": [
            " 17%|█▋        | 17/100 [03:15<15:23, 11.13s/it]"
          ],
          "name": "stderr"
        },
        {
          "output_type": "stream",
          "text": [
            "E16 loss=[193.63,193.60] acc=[32.61,32.65]\n"
          ],
          "name": "stdout"
        },
        {
          "output_type": "stream",
          "text": [
            " 18%|█▊        | 18/100 [03:26<15:17, 11.18s/it]"
          ],
          "name": "stderr"
        },
        {
          "output_type": "stream",
          "text": [
            "E17 loss=[192.82,192.82] acc=[32.92,33.21]\n"
          ],
          "name": "stdout"
        },
        {
          "output_type": "stream",
          "text": [
            " 19%|█▉        | 19/100 [03:38<15:18, 11.34s/it]"
          ],
          "name": "stderr"
        },
        {
          "output_type": "stream",
          "text": [
            "E18 loss=[192.04,192.04] acc=[33.07,33.04]\n"
          ],
          "name": "stdout"
        },
        {
          "output_type": "stream",
          "text": [
            " 20%|██        | 20/100 [03:49<15:06, 11.33s/it]"
          ],
          "name": "stderr"
        },
        {
          "output_type": "stream",
          "text": [
            "E19 loss=[191.31,191.29] acc=[33.28,33.40]\n"
          ],
          "name": "stdout"
        },
        {
          "output_type": "stream",
          "text": [
            " 21%|██        | 21/100 [04:01<15:09, 11.52s/it]"
          ],
          "name": "stderr"
        },
        {
          "output_type": "stream",
          "text": [
            "E20 loss=[190.64,190.70] acc=[33.74,33.55]\n"
          ],
          "name": "stdout"
        },
        {
          "output_type": "stream",
          "text": [
            " 22%|██▏       | 22/100 [04:12<14:54, 11.47s/it]"
          ],
          "name": "stderr"
        },
        {
          "output_type": "stream",
          "text": [
            "E21 loss=[190.05,190.07] acc=[33.87,33.52]\n"
          ],
          "name": "stdout"
        },
        {
          "output_type": "stream",
          "text": [
            " 23%|██▎       | 23/100 [04:24<14:51, 11.58s/it]"
          ],
          "name": "stderr"
        },
        {
          "output_type": "stream",
          "text": [
            "E22 loss=[189.45,189.50] acc=[34.03,33.94]\n"
          ],
          "name": "stdout"
        },
        {
          "output_type": "stream",
          "text": [
            " 24%|██▍       | 24/100 [04:36<14:38, 11.56s/it]"
          ],
          "name": "stderr"
        },
        {
          "output_type": "stream",
          "text": [
            "E23 loss=[188.88,188.91] acc=[34.10,33.85]\n"
          ],
          "name": "stdout"
        },
        {
          "output_type": "stream",
          "text": [
            " 25%|██▌       | 25/100 [04:47<14:21, 11.49s/it]"
          ],
          "name": "stderr"
        },
        {
          "output_type": "stream",
          "text": [
            "E24 loss=[188.40,188.47] acc=[34.26,34.38]\n"
          ],
          "name": "stdout"
        },
        {
          "output_type": "stream",
          "text": [
            " 26%|██▌       | 26/100 [04:59<14:08, 11.46s/it]"
          ],
          "name": "stderr"
        },
        {
          "output_type": "stream",
          "text": [
            "E25 loss=[187.91,187.98] acc=[34.66,34.48]\n"
          ],
          "name": "stdout"
        },
        {
          "output_type": "stream",
          "text": [
            " 27%|██▋       | 27/100 [05:10<13:58, 11.49s/it]"
          ],
          "name": "stderr"
        },
        {
          "output_type": "stream",
          "text": [
            "E26 loss=[187.41,187.44] acc=[34.67,34.64]\n"
          ],
          "name": "stdout"
        },
        {
          "output_type": "stream",
          "text": [
            " 28%|██▊       | 28/100 [05:22<13:46, 11.47s/it]"
          ],
          "name": "stderr"
        },
        {
          "output_type": "stream",
          "text": [
            "E27 loss=[187.00,187.07] acc=[34.79,34.67]\n"
          ],
          "name": "stdout"
        },
        {
          "output_type": "stream",
          "text": [
            " 29%|██▉       | 29/100 [05:33<13:33, 11.46s/it]"
          ],
          "name": "stderr"
        },
        {
          "output_type": "stream",
          "text": [
            "E28 loss=[186.55,186.62] acc=[34.97,35.02]\n"
          ],
          "name": "stdout"
        },
        {
          "output_type": "stream",
          "text": [
            " 30%|███       | 30/100 [05:44<13:15, 11.37s/it]"
          ],
          "name": "stderr"
        },
        {
          "output_type": "stream",
          "text": [
            "E29 loss=[186.18,186.32] acc=[35.21,35.00]\n"
          ],
          "name": "stdout"
        },
        {
          "output_type": "stream",
          "text": [
            " 31%|███       | 31/100 [05:55<13:03, 11.35s/it]"
          ],
          "name": "stderr"
        },
        {
          "output_type": "stream",
          "text": [
            "E30 loss=[185.78,185.88] acc=[35.22,34.97]\n"
          ],
          "name": "stdout"
        },
        {
          "output_type": "stream",
          "text": [
            " 32%|███▏      | 32/100 [06:07<12:59, 11.46s/it]"
          ],
          "name": "stderr"
        },
        {
          "output_type": "stream",
          "text": [
            "E31 loss=[185.40,185.48] acc=[35.19,35.24]\n"
          ],
          "name": "stdout"
        },
        {
          "output_type": "stream",
          "text": [
            " 33%|███▎      | 33/100 [06:19<12:50, 11.49s/it]"
          ],
          "name": "stderr"
        },
        {
          "output_type": "stream",
          "text": [
            "E32 loss=[185.05,185.13] acc=[35.37,35.10]\n"
          ],
          "name": "stdout"
        },
        {
          "output_type": "stream",
          "text": [
            " 34%|███▍      | 34/100 [06:30<12:39, 11.51s/it]"
          ],
          "name": "stderr"
        },
        {
          "output_type": "stream",
          "text": [
            "E33 loss=[184.71,184.71] acc=[35.48,35.55]\n"
          ],
          "name": "stdout"
        },
        {
          "output_type": "stream",
          "text": [
            " 35%|███▌      | 35/100 [06:42<12:30, 11.54s/it]"
          ],
          "name": "stderr"
        },
        {
          "output_type": "stream",
          "text": [
            "E34 loss=[184.34,184.39] acc=[35.64,35.46]\n"
          ],
          "name": "stdout"
        },
        {
          "output_type": "stream",
          "text": [
            " 36%|███▌      | 36/100 [06:54<12:27, 11.67s/it]"
          ],
          "name": "stderr"
        },
        {
          "output_type": "stream",
          "text": [
            "E35 loss=[184.00,184.07] acc=[35.78,35.51]\n"
          ],
          "name": "stdout"
        },
        {
          "output_type": "stream",
          "text": [
            " 37%|███▋      | 37/100 [07:05<12:07, 11.54s/it]"
          ],
          "name": "stderr"
        },
        {
          "output_type": "stream",
          "text": [
            "E36 loss=[183.68,183.80] acc=[35.89,35.83]\n"
          ],
          "name": "stdout"
        },
        {
          "output_type": "stream",
          "text": [
            " 38%|███▊      | 38/100 [07:17<12:00, 11.62s/it]"
          ],
          "name": "stderr"
        },
        {
          "output_type": "stream",
          "text": [
            "E37 loss=[183.35,183.40] acc=[36.13,35.98]\n"
          ],
          "name": "stdout"
        },
        {
          "output_type": "stream",
          "text": [
            " 39%|███▉      | 39/100 [07:28<11:45, 11.57s/it]"
          ],
          "name": "stderr"
        },
        {
          "output_type": "stream",
          "text": [
            "E38 loss=[183.04,183.10] acc=[36.06,36.26]\n"
          ],
          "name": "stdout"
        },
        {
          "output_type": "stream",
          "text": [
            " 40%|████      | 40/100 [07:40<11:33, 11.56s/it]"
          ],
          "name": "stderr"
        },
        {
          "output_type": "stream",
          "text": [
            "E39 loss=[182.74,182.77] acc=[36.30,36.35]\n"
          ],
          "name": "stdout"
        },
        {
          "output_type": "stream",
          "text": [
            " 41%|████      | 41/100 [07:51<11:22, 11.58s/it]"
          ],
          "name": "stderr"
        },
        {
          "output_type": "stream",
          "text": [
            "E40 loss=[182.45,182.50] acc=[36.28,36.30]\n"
          ],
          "name": "stdout"
        },
        {
          "output_type": "stream",
          "text": [
            " 42%|████▏     | 42/100 [08:03<11:03, 11.44s/it]"
          ],
          "name": "stderr"
        },
        {
          "output_type": "stream",
          "text": [
            "E41 loss=[182.22,182.31] acc=[36.38,36.53]\n"
          ],
          "name": "stdout"
        },
        {
          "output_type": "stream",
          "text": [
            " 43%|████▎     | 43/100 [08:14<10:50, 11.42s/it]"
          ],
          "name": "stderr"
        },
        {
          "output_type": "stream",
          "text": [
            "E42 loss=[181.92,181.93] acc=[36.41,36.44]\n"
          ],
          "name": "stdout"
        },
        {
          "output_type": "stream",
          "text": [
            " 44%|████▍     | 44/100 [08:26<10:48, 11.58s/it]"
          ],
          "name": "stderr"
        },
        {
          "output_type": "stream",
          "text": [
            "E43 loss=[181.61,181.62] acc=[36.63,36.51]\n"
          ],
          "name": "stdout"
        },
        {
          "output_type": "stream",
          "text": [
            " 45%|████▌     | 45/100 [08:37<10:34, 11.55s/it]"
          ],
          "name": "stderr"
        },
        {
          "output_type": "stream",
          "text": [
            "E44 loss=[181.33,181.36] acc=[36.61,36.77]\n"
          ],
          "name": "stdout"
        },
        {
          "output_type": "stream",
          "text": [
            " 46%|████▌     | 46/100 [08:49<10:21, 11.51s/it]"
          ],
          "name": "stderr"
        },
        {
          "output_type": "stream",
          "text": [
            "E45 loss=[181.08,181.09] acc=[36.74,36.58]\n"
          ],
          "name": "stdout"
        },
        {
          "output_type": "stream",
          "text": [
            " 47%|████▋     | 47/100 [09:00<10:12, 11.56s/it]"
          ],
          "name": "stderr"
        },
        {
          "output_type": "stream",
          "text": [
            "E46 loss=[180.83,180.94] acc=[36.80,36.82]\n"
          ],
          "name": "stdout"
        },
        {
          "output_type": "stream",
          "text": [
            " 48%|████▊     | 48/100 [09:12<09:58, 11.52s/it]"
          ],
          "name": "stderr"
        },
        {
          "output_type": "stream",
          "text": [
            "E47 loss=[180.60,180.67] acc=[36.98,37.10]\n"
          ],
          "name": "stdout"
        },
        {
          "output_type": "stream",
          "text": [
            " 49%|████▉     | 49/100 [09:23<09:43, 11.44s/it]"
          ],
          "name": "stderr"
        },
        {
          "output_type": "stream",
          "text": [
            "E48 loss=[180.31,180.35] acc=[36.80,36.97]\n"
          ],
          "name": "stdout"
        },
        {
          "output_type": "stream",
          "text": [
            " 50%|█████     | 50/100 [09:35<09:35, 11.52s/it]"
          ],
          "name": "stderr"
        },
        {
          "output_type": "stream",
          "text": [
            "E49 loss=[180.07,180.10] acc=[37.16,37.05]\n"
          ],
          "name": "stdout"
        },
        {
          "output_type": "stream",
          "text": [
            " 51%|█████     | 51/100 [09:46<09:25, 11.53s/it]"
          ],
          "name": "stderr"
        },
        {
          "output_type": "stream",
          "text": [
            "E50 loss=[179.87,179.92] acc=[37.24,37.06]\n"
          ],
          "name": "stdout"
        },
        {
          "output_type": "stream",
          "text": [
            " 52%|█████▏    | 52/100 [09:58<09:11, 11.50s/it]"
          ],
          "name": "stderr"
        },
        {
          "output_type": "stream",
          "text": [
            "E51 loss=[179.60,179.64] acc=[37.21,37.50]\n"
          ],
          "name": "stdout"
        },
        {
          "output_type": "stream",
          "text": [
            " 53%|█████▎    | 53/100 [10:10<09:05, 11.62s/it]"
          ],
          "name": "stderr"
        },
        {
          "output_type": "stream",
          "text": [
            "E52 loss=[179.45,179.47] acc=[37.25,37.24]\n"
          ],
          "name": "stdout"
        },
        {
          "output_type": "stream",
          "text": [
            " 54%|█████▍    | 54/100 [10:21<08:51, 11.56s/it]"
          ],
          "name": "stderr"
        },
        {
          "output_type": "stream",
          "text": [
            "E53 loss=[179.16,179.17] acc=[37.39,37.58]\n"
          ],
          "name": "stdout"
        },
        {
          "output_type": "stream",
          "text": [
            " 55%|█████▌    | 55/100 [10:33<08:44, 11.65s/it]"
          ],
          "name": "stderr"
        },
        {
          "output_type": "stream",
          "text": [
            "E54 loss=[179.02,179.06] acc=[37.30,37.28]\n"
          ],
          "name": "stdout"
        },
        {
          "output_type": "stream",
          "text": [
            " 56%|█████▌    | 56/100 [10:45<08:31, 11.63s/it]"
          ],
          "name": "stderr"
        },
        {
          "output_type": "stream",
          "text": [
            "E55 loss=[178.74,178.78] acc=[37.58,37.64]\n"
          ],
          "name": "stdout"
        },
        {
          "output_type": "stream",
          "text": [
            " 57%|█████▋    | 57/100 [10:56<08:15, 11.51s/it]"
          ],
          "name": "stderr"
        },
        {
          "output_type": "stream",
          "text": [
            "E56 loss=[178.51,178.49] acc=[37.61,37.69]\n"
          ],
          "name": "stdout"
        },
        {
          "output_type": "stream",
          "text": [
            " 58%|█████▊    | 58/100 [11:07<08:02, 11.48s/it]"
          ],
          "name": "stderr"
        },
        {
          "output_type": "stream",
          "text": [
            "E57 loss=[178.36,178.42] acc=[37.56,37.60]\n"
          ],
          "name": "stdout"
        },
        {
          "output_type": "stream",
          "text": [
            " 59%|█████▉    | 59/100 [11:19<07:50, 11.47s/it]"
          ],
          "name": "stderr"
        },
        {
          "output_type": "stream",
          "text": [
            "E58 loss=[178.09,178.13] acc=[37.82,37.95]\n"
          ],
          "name": "stdout"
        },
        {
          "output_type": "stream",
          "text": [
            " 60%|██████    | 60/100 [11:30<07:36, 11.42s/it]"
          ],
          "name": "stderr"
        },
        {
          "output_type": "stream",
          "text": [
            "E59 loss=[177.94,177.91] acc=[37.79,37.87]\n"
          ],
          "name": "stdout"
        },
        {
          "output_type": "stream",
          "text": [
            " 61%|██████    | 61/100 [11:41<07:22, 11.36s/it]"
          ],
          "name": "stderr"
        },
        {
          "output_type": "stream",
          "text": [
            "E60 loss=[177.71,177.73] acc=[37.72,37.82]\n"
          ],
          "name": "stdout"
        },
        {
          "output_type": "stream",
          "text": [
            " 62%|██████▏   | 62/100 [11:53<07:13, 11.41s/it]"
          ],
          "name": "stderr"
        },
        {
          "output_type": "stream",
          "text": [
            "E61 loss=[177.54,177.60] acc=[38.09,38.09]\n"
          ],
          "name": "stdout"
        },
        {
          "output_type": "stream",
          "text": [
            " 63%|██████▎   | 63/100 [12:04<06:59, 11.35s/it]"
          ],
          "name": "stderr"
        },
        {
          "output_type": "stream",
          "text": [
            "E62 loss=[177.40,177.44] acc=[38.22,38.12]\n"
          ],
          "name": "stdout"
        },
        {
          "output_type": "stream",
          "text": [
            " 64%|██████▍   | 64/100 [12:15<06:49, 11.37s/it]"
          ],
          "name": "stderr"
        },
        {
          "output_type": "stream",
          "text": [
            "E63 loss=[177.16,177.20] acc=[38.24,38.19]\n"
          ],
          "name": "stdout"
        },
        {
          "output_type": "stream",
          "text": [
            " 65%|██████▌   | 65/100 [12:27<06:38, 11.39s/it]"
          ],
          "name": "stderr"
        },
        {
          "output_type": "stream",
          "text": [
            "E64 loss=[176.99,177.01] acc=[38.27,38.11]\n"
          ],
          "name": "stdout"
        },
        {
          "output_type": "stream",
          "text": [
            " 66%|██████▌   | 66/100 [12:38<06:25, 11.33s/it]"
          ],
          "name": "stderr"
        },
        {
          "output_type": "stream",
          "text": [
            "E65 loss=[176.76,176.81] acc=[38.32,38.35]\n"
          ],
          "name": "stdout"
        },
        {
          "output_type": "stream",
          "text": [
            " 67%|██████▋   | 67/100 [12:50<06:18, 11.48s/it]"
          ],
          "name": "stderr"
        },
        {
          "output_type": "stream",
          "text": [
            "E66 loss=[176.69,176.70] acc=[38.30,38.29]\n"
          ],
          "name": "stdout"
        },
        {
          "output_type": "stream",
          "text": [
            " 68%|██████▊   | 68/100 [13:01<06:05, 11.42s/it]"
          ],
          "name": "stderr"
        },
        {
          "output_type": "stream",
          "text": [
            "E67 loss=[176.45,176.53] acc=[38.56,38.50]\n"
          ],
          "name": "stdout"
        },
        {
          "output_type": "stream",
          "text": [
            " 69%|██████▉   | 69/100 [13:13<05:54, 11.42s/it]"
          ],
          "name": "stderr"
        },
        {
          "output_type": "stream",
          "text": [
            "E68 loss=[176.25,176.26] acc=[38.59,38.52]\n"
          ],
          "name": "stdout"
        },
        {
          "output_type": "stream",
          "text": [
            " 70%|███████   | 70/100 [13:24<05:40, 11.36s/it]"
          ],
          "name": "stderr"
        },
        {
          "output_type": "stream",
          "text": [
            "E69 loss=[176.07,176.07] acc=[38.46,38.49]\n"
          ],
          "name": "stdout"
        },
        {
          "output_type": "stream",
          "text": [
            " 71%|███████   | 71/100 [13:35<05:31, 11.45s/it]"
          ],
          "name": "stderr"
        },
        {
          "output_type": "stream",
          "text": [
            "E70 loss=[175.92,175.90] acc=[38.60,38.62]\n"
          ],
          "name": "stdout"
        },
        {
          "output_type": "stream",
          "text": [
            " 72%|███████▏  | 72/100 [13:47<05:21, 11.48s/it]"
          ],
          "name": "stderr"
        },
        {
          "output_type": "stream",
          "text": [
            "E71 loss=[175.76,175.82] acc=[38.70,38.55]\n"
          ],
          "name": "stdout"
        },
        {
          "output_type": "stream",
          "text": [
            " 73%|███████▎  | 73/100 [13:59<05:12, 11.58s/it]"
          ],
          "name": "stderr"
        },
        {
          "output_type": "stream",
          "text": [
            "E72 loss=[175.66,175.68] acc=[38.93,39.02]\n"
          ],
          "name": "stdout"
        },
        {
          "output_type": "stream",
          "text": [
            " 74%|███████▍  | 74/100 [14:10<05:01, 11.61s/it]"
          ],
          "name": "stderr"
        },
        {
          "output_type": "stream",
          "text": [
            "E73 loss=[175.42,175.44] acc=[38.97,38.78]\n"
          ],
          "name": "stdout"
        },
        {
          "output_type": "stream",
          "text": [
            " 75%|███████▌  | 75/100 [14:22<04:50, 11.60s/it]"
          ],
          "name": "stderr"
        },
        {
          "output_type": "stream",
          "text": [
            "E74 loss=[175.27,175.26] acc=[38.84,38.65]\n"
          ],
          "name": "stdout"
        },
        {
          "output_type": "stream",
          "text": [
            " 76%|███████▌  | 76/100 [14:34<04:40, 11.69s/it]"
          ],
          "name": "stderr"
        },
        {
          "output_type": "stream",
          "text": [
            "E75 loss=[175.09,175.15] acc=[38.97,38.98]\n"
          ],
          "name": "stdout"
        },
        {
          "output_type": "stream",
          "text": [
            " 77%|███████▋  | 77/100 [14:46<04:30, 11.74s/it]"
          ],
          "name": "stderr"
        },
        {
          "output_type": "stream",
          "text": [
            "E76 loss=[174.93,174.94] acc=[39.17,39.06]\n"
          ],
          "name": "stdout"
        },
        {
          "output_type": "stream",
          "text": [
            " 78%|███████▊  | 78/100 [14:57<04:15, 11.60s/it]"
          ],
          "name": "stderr"
        },
        {
          "output_type": "stream",
          "text": [
            "E77 loss=[174.79,174.87] acc=[38.99,38.97]\n"
          ],
          "name": "stdout"
        },
        {
          "output_type": "stream",
          "text": [
            " 79%|███████▉  | 79/100 [15:08<04:01, 11.52s/it]"
          ],
          "name": "stderr"
        },
        {
          "output_type": "stream",
          "text": [
            "E78 loss=[174.61,174.56] acc=[39.10,39.11]\n"
          ],
          "name": "stdout"
        },
        {
          "output_type": "stream",
          "text": [
            " 80%|████████  | 80/100 [15:20<03:52, 11.63s/it]"
          ],
          "name": "stderr"
        },
        {
          "output_type": "stream",
          "text": [
            "E79 loss=[174.50,174.60] acc=[39.22,39.17]\n"
          ],
          "name": "stdout"
        },
        {
          "output_type": "stream",
          "text": [
            " 81%|████████  | 81/100 [15:32<03:39, 11.56s/it]"
          ],
          "name": "stderr"
        },
        {
          "output_type": "stream",
          "text": [
            "E80 loss=[174.39,174.40] acc=[39.08,38.90]\n"
          ],
          "name": "stdout"
        },
        {
          "output_type": "stream",
          "text": [
            " 82%|████████▏ | 82/100 [15:43<03:26, 11.50s/it]"
          ],
          "name": "stderr"
        },
        {
          "output_type": "stream",
          "text": [
            "E81 loss=[174.17,174.21] acc=[39.35,39.30]\n"
          ],
          "name": "stdout"
        },
        {
          "output_type": "stream",
          "text": [
            " 83%|████████▎ | 83/100 [15:55<03:17, 11.61s/it]"
          ],
          "name": "stderr"
        },
        {
          "output_type": "stream",
          "text": [
            "E82 loss=[174.06,174.15] acc=[39.49,39.42]\n"
          ],
          "name": "stdout"
        },
        {
          "output_type": "stream",
          "text": [
            " 84%|████████▍ | 84/100 [16:06<03:04, 11.51s/it]"
          ],
          "name": "stderr"
        },
        {
          "output_type": "stream",
          "text": [
            "E83 loss=[173.87,173.89] acc=[39.46,39.44]\n"
          ],
          "name": "stdout"
        },
        {
          "output_type": "stream",
          "text": [
            " 85%|████████▌ | 85/100 [16:18<02:52, 11.47s/it]"
          ],
          "name": "stderr"
        },
        {
          "output_type": "stream",
          "text": [
            "E84 loss=[173.74,173.88] acc=[39.54,39.34]\n"
          ],
          "name": "stdout"
        },
        {
          "output_type": "stream",
          "text": [
            " 86%|████████▌ | 86/100 [16:29<02:42, 11.58s/it]"
          ],
          "name": "stderr"
        },
        {
          "output_type": "stream",
          "text": [
            "E85 loss=[173.57,173.62] acc=[39.41,39.64]\n"
          ],
          "name": "stdout"
        },
        {
          "output_type": "stream",
          "text": [
            " 87%|████████▋ | 87/100 [16:41<02:31, 11.68s/it]"
          ],
          "name": "stderr"
        },
        {
          "output_type": "stream",
          "text": [
            "E86 loss=[173.42,173.49] acc=[39.54,39.70]\n"
          ],
          "name": "stdout"
        },
        {
          "output_type": "stream",
          "text": [
            " 88%|████████▊ | 88/100 [16:53<02:19, 11.66s/it]"
          ],
          "name": "stderr"
        },
        {
          "output_type": "stream",
          "text": [
            "E87 loss=[173.28,173.39] acc=[39.49,39.46]\n"
          ],
          "name": "stdout"
        },
        {
          "output_type": "stream",
          "text": [
            " 89%|████████▉ | 89/100 [17:04<02:07, 11.62s/it]"
          ],
          "name": "stderr"
        },
        {
          "output_type": "stream",
          "text": [
            "E88 loss=[173.17,173.23] acc=[39.58,39.68]\n"
          ],
          "name": "stdout"
        },
        {
          "output_type": "stream",
          "text": [
            " 90%|█████████ | 90/100 [17:16<01:56, 11.64s/it]"
          ],
          "name": "stderr"
        },
        {
          "output_type": "stream",
          "text": [
            "E89 loss=[173.00,173.06] acc=[39.83,40.19]\n"
          ],
          "name": "stdout"
        },
        {
          "output_type": "stream",
          "text": [
            " 91%|█████████ | 91/100 [17:28<01:46, 11.79s/it]"
          ],
          "name": "stderr"
        },
        {
          "output_type": "stream",
          "text": [
            "E90 loss=[172.92,172.91] acc=[39.52,39.95]\n"
          ],
          "name": "stdout"
        },
        {
          "output_type": "stream",
          "text": [
            " 92%|█████████▏| 92/100 [17:40<01:34, 11.87s/it]"
          ],
          "name": "stderr"
        },
        {
          "output_type": "stream",
          "text": [
            "E91 loss=[172.69,172.74] acc=[39.76,39.87]\n"
          ],
          "name": "stdout"
        },
        {
          "output_type": "stream",
          "text": [
            " 93%|█████████▎| 93/100 [17:52<01:22, 11.75s/it]"
          ],
          "name": "stderr"
        },
        {
          "output_type": "stream",
          "text": [
            "E92 loss=[172.54,172.65] acc=[39.88,39.99]\n"
          ],
          "name": "stdout"
        },
        {
          "output_type": "stream",
          "text": [
            " 94%|█████████▍| 94/100 [18:03<01:09, 11.66s/it]"
          ],
          "name": "stderr"
        },
        {
          "output_type": "stream",
          "text": [
            "E93 loss=[172.43,172.53] acc=[40.15,40.11]\n"
          ],
          "name": "stdout"
        },
        {
          "output_type": "stream",
          "text": [
            " 95%|█████████▌| 95/100 [18:15<00:58, 11.76s/it]"
          ],
          "name": "stderr"
        },
        {
          "output_type": "stream",
          "text": [
            "E94 loss=[172.25,172.33] acc=[40.02,40.27]\n"
          ],
          "name": "stdout"
        },
        {
          "output_type": "stream",
          "text": [
            " 96%|█████████▌| 96/100 [18:27<00:47, 11.79s/it]"
          ],
          "name": "stderr"
        },
        {
          "output_type": "stream",
          "text": [
            "E95 loss=[172.13,172.20] acc=[40.10,40.30]\n"
          ],
          "name": "stdout"
        },
        {
          "output_type": "stream",
          "text": [
            " 97%|█████████▋| 97/100 [18:39<00:35, 11.69s/it]"
          ],
          "name": "stderr"
        },
        {
          "output_type": "stream",
          "text": [
            "E96 loss=[172.01,172.10] acc=[39.95,40.06]\n"
          ],
          "name": "stdout"
        },
        {
          "output_type": "stream",
          "text": [
            " 98%|█████████▊| 98/100 [18:51<00:23, 11.87s/it]"
          ],
          "name": "stderr"
        },
        {
          "output_type": "stream",
          "text": [
            "E97 loss=[171.97,172.10] acc=[40.31,40.14]\n"
          ],
          "name": "stdout"
        },
        {
          "output_type": "stream",
          "text": [
            " 99%|█████████▉| 99/100 [19:02<00:11, 11.78s/it]"
          ],
          "name": "stderr"
        },
        {
          "output_type": "stream",
          "text": [
            "E98 loss=[171.69,171.87] acc=[40.11,40.06]\n"
          ],
          "name": "stdout"
        },
        {
          "output_type": "stream",
          "text": [
            "100%|██████████| 100/100 [19:14<00:00, 11.55s/it]"
          ],
          "name": "stderr"
        },
        {
          "output_type": "stream",
          "text": [
            "E99 loss=[171.55,171.61] acc=[40.15,40.47]\n"
          ],
          "name": "stdout"
        },
        {
          "output_type": "stream",
          "text": [
            "\n"
          ],
          "name": "stderr"
        }
      ]
    },
    {
      "cell_type": "code",
      "metadata": {
        "id": "developing-composition",
        "outputId": "a757471a-6ac2-4a30-ccd0-b89515d31133"
      },
      "source": [
        "plot_evaluation(loss_hist, acc_hist)"
      ],
      "id": "developing-composition",
      "execution_count": null,
      "outputs": [
        {
          "output_type": "display_data",
          "data": {
            "image/png": "[encoded data removed]",
            "text/plain": [
              "<Figure size 1152x648 with 2 Axes>"
            ]
          },
          "metadata": {
            "tags": []
          }
        }
      ]
    },
    {
      "cell_type": "markdown",
      "metadata": {
        "id": "several-clear"
      },
      "source": [
        "### Model 2\n",
        "\n",
        "Se contempla más capas y el uso de la función ReLU"
      ],
      "id": "several-clear"
    },
    {
      "cell_type": "code",
      "metadata": {
        "id": "quarterly-flash"
      },
      "source": [
        "class CIFAR10Model2(nn.Module):\n",
        "    \n",
        "    # inicializador\n",
        "    def __init__(self):\n",
        "        \n",
        "        # inicilización del objeto padre, obligatorio\n",
        "        super().__init__()\n",
        "        \n",
        "        # tamaño de las capas\n",
        "        self.I = 3 * 32 * 32\n",
        "        FC1 = 2*self.I + 1\n",
        "        FC2 = self.I//2\n",
        "        FC3 = FC2//2\n",
        "        n_classes = 10\n",
        "        \n",
        "        # definición de capas\n",
        "        self.cls = nn.Sequential(\n",
        "            \n",
        "            # fc1\n",
        "            # [M, 1x28x28] => [M, 128]\n",
        "            nn.Linear(self.I, FC1),\n",
        "            nn.ReLU(),\n",
        "            \n",
        "            nn.Linear(FC1, FC2),\n",
        "            nn.ReLU(),\n",
        "            # fc2\n",
        "            # [M, 128] => [M, 10]\n",
        "            \n",
        "            nn.Linear(FC2, FC3),\n",
        "            nn.ReLU(),\n",
        "            \n",
        "            \n",
        "            nn.Linear(FC3, n_classes)#,\n",
        "            #nn.Softmax(dim=0)   \n",
        "        )\n",
        "    \n",
        "    # método para inferencia\n",
        "    def forward(self, x):\n",
        "        \n",
        "        # aplanamos los pixeles de la imagen\n",
        "        # [M, 1, 28, 28] => [M, 1x28x28]\n",
        "        x = x.view(-1, self.I)\n",
        "        \n",
        "        # inferencia\n",
        "        # [M, 1x28x28]\n",
        "        x = self.cls(x)\n",
        "        \n",
        "        return x"
      ],
      "id": "quarterly-flash",
      "execution_count": null,
      "outputs": []
    },
    {
      "cell_type": "code",
      "metadata": {
        "id": "hundred-county",
        "outputId": "ce94bc68-832d-4dc9-e101-700cee9adb8c"
      },
      "source": [
        "# instanciamos un modelo\n",
        "cifar_model2 = CIFAR10Model2().to(dev)\n",
        "# entrenamos\n",
        "loss_hist, acc_hist = train(cifar_model2, cifar_train_dl, cifar_test_dl, epochs=100)\n",
        "\n",
        "plot_evaluation(loss_hist, acc_hist)"
      ],
      "id": "hundred-county",
      "execution_count": null,
      "outputs": [
        {
          "output_type": "stream",
          "text": [
            "  1%|          | 1/100 [00:12<20:43, 12.56s/it]"
          ],
          "name": "stderr"
        },
        {
          "output_type": "stream",
          "text": [
            "E00 loss=[227.40,227.37] acc=[15.20,15.47]\n"
          ],
          "name": "stdout"
        },
        {
          "output_type": "stream",
          "text": [
            "  2%|▏         | 2/100 [00:24<20:22, 12.48s/it]"
          ],
          "name": "stderr"
        },
        {
          "output_type": "stream",
          "text": [
            "E01 loss=[222.42,222.42] acc=[19.25,19.81]\n"
          ],
          "name": "stdout"
        },
        {
          "output_type": "stream",
          "text": [
            "  3%|▎         | 3/100 [00:37<20:13, 12.51s/it]"
          ],
          "name": "stderr"
        },
        {
          "output_type": "stream",
          "text": [
            "E02 loss=[213.14,213.18] acc=[23.52,23.84]\n"
          ],
          "name": "stdout"
        },
        {
          "output_type": "stream",
          "text": [
            "  4%|▍         | 4/100 [00:50<20:03, 12.53s/it]"
          ],
          "name": "stderr"
        },
        {
          "output_type": "stream",
          "text": [
            "E03 loss=[205.16,205.17] acc=[26.66,27.03]\n"
          ],
          "name": "stdout"
        },
        {
          "output_type": "stream",
          "text": [
            "  5%|▌         | 5/100 [01:02<19:53, 12.56s/it]"
          ],
          "name": "stderr"
        },
        {
          "output_type": "stream",
          "text": [
            "E04 loss=[199.83,199.92] acc=[29.31,29.20]\n"
          ],
          "name": "stdout"
        },
        {
          "output_type": "stream",
          "text": [
            "  6%|▌         | 6/100 [01:15<19:44, 12.61s/it]"
          ],
          "name": "stderr"
        },
        {
          "output_type": "stream",
          "text": [
            "E05 loss=[195.36,195.48] acc=[30.19,29.94]\n"
          ],
          "name": "stdout"
        },
        {
          "output_type": "stream",
          "text": [
            "  7%|▋         | 7/100 [01:27<19:31, 12.60s/it]"
          ],
          "name": "stderr"
        },
        {
          "output_type": "stream",
          "text": [
            "E06 loss=[192.03,192.14] acc=[31.55,31.61]\n"
          ],
          "name": "stdout"
        },
        {
          "output_type": "stream",
          "text": [
            "  8%|▊         | 8/100 [01:40<19:29, 12.72s/it]"
          ],
          "name": "stderr"
        },
        {
          "output_type": "stream",
          "text": [
            "E07 loss=[189.21,189.42] acc=[32.82,32.37]\n"
          ],
          "name": "stdout"
        },
        {
          "output_type": "stream",
          "text": [
            "  9%|▉         | 9/100 [01:53<19:13, 12.67s/it]"
          ],
          "name": "stderr"
        },
        {
          "output_type": "stream",
          "text": [
            "E08 loss=[186.94,187.13] acc=[33.15,32.82]\n"
          ],
          "name": "stdout"
        },
        {
          "output_type": "stream",
          "text": [
            " 10%|█         | 10/100 [02:06<18:59, 12.66s/it]"
          ],
          "name": "stderr"
        },
        {
          "output_type": "stream",
          "text": [
            "E09 loss=[184.77,184.95] acc=[34.18,34.09]\n"
          ],
          "name": "stdout"
        },
        {
          "output_type": "stream",
          "text": [
            " 11%|█         | 11/100 [02:19<18:55, 12.76s/it]"
          ],
          "name": "stderr"
        },
        {
          "output_type": "stream",
          "text": [
            "E10 loss=[182.88,183.07] acc=[34.86,34.63]\n"
          ],
          "name": "stdout"
        },
        {
          "output_type": "stream",
          "text": [
            " 12%|█▏        | 12/100 [02:31<18:37, 12.70s/it]"
          ],
          "name": "stderr"
        },
        {
          "output_type": "stream",
          "text": [
            "E11 loss=[180.93,181.07] acc=[35.53,35.38]\n"
          ],
          "name": "stdout"
        },
        {
          "output_type": "stream",
          "text": [
            " 13%|█▎        | 13/100 [02:44<18:22, 12.68s/it]"
          ],
          "name": "stderr"
        },
        {
          "output_type": "stream",
          "text": [
            "E12 loss=[179.01,179.20] acc=[36.38,36.35]\n"
          ],
          "name": "stdout"
        },
        {
          "output_type": "stream",
          "text": [
            " 14%|█▍        | 14/100 [02:56<18:08, 12.66s/it]"
          ],
          "name": "stderr"
        },
        {
          "output_type": "stream",
          "text": [
            "E13 loss=[177.19,177.27] acc=[36.78,36.51]\n"
          ],
          "name": "stdout"
        },
        {
          "output_type": "stream",
          "text": [
            " 15%|█▌        | 15/100 [03:09<17:54, 12.64s/it]"
          ],
          "name": "stderr"
        },
        {
          "output_type": "stream",
          "text": [
            "E14 loss=[176.17,176.31] acc=[37.27,37.02]\n"
          ],
          "name": "stdout"
        },
        {
          "output_type": "stream",
          "text": [
            " 16%|█▌        | 16/100 [03:22<17:42, 12.64s/it]"
          ],
          "name": "stderr"
        },
        {
          "output_type": "stream",
          "text": [
            "E15 loss=[174.08,174.04] acc=[38.07,37.80]\n"
          ],
          "name": "stdout"
        },
        {
          "output_type": "stream",
          "text": [
            " 17%|█▋        | 17/100 [03:34<17:28, 12.63s/it]"
          ],
          "name": "stderr"
        },
        {
          "output_type": "stream",
          "text": [
            "E16 loss=[173.35,173.34] acc=[38.51,38.44]\n"
          ],
          "name": "stdout"
        },
        {
          "output_type": "stream",
          "text": [
            " 18%|█▊        | 18/100 [03:47<17:16, 12.64s/it]"
          ],
          "name": "stderr"
        },
        {
          "output_type": "stream",
          "text": [
            "E17 loss=[170.68,170.64] acc=[39.31,38.99]\n"
          ],
          "name": "stdout"
        },
        {
          "output_type": "stream",
          "text": [
            " 19%|█▉        | 19/100 [04:00<17:04, 12.64s/it]"
          ],
          "name": "stderr"
        },
        {
          "output_type": "stream",
          "text": [
            "E18 loss=[169.04,169.04] acc=[40.02,39.89]\n"
          ],
          "name": "stdout"
        },
        {
          "output_type": "stream",
          "text": [
            " 20%|██        | 20/100 [04:12<16:49, 12.61s/it]"
          ],
          "name": "stderr"
        },
        {
          "output_type": "stream",
          "text": [
            "E19 loss=[167.55,167.62] acc=[40.57,40.39]\n"
          ],
          "name": "stdout"
        },
        {
          "output_type": "stream",
          "text": [
            " 21%|██        | 21/100 [04:25<16:37, 12.62s/it]"
          ],
          "name": "stderr"
        },
        {
          "output_type": "stream",
          "text": [
            "E20 loss=[166.75,166.90] acc=[40.66,40.56]\n"
          ],
          "name": "stdout"
        },
        {
          "output_type": "stream",
          "text": [
            " 22%|██▏       | 22/100 [04:37<16:22, 12.60s/it]"
          ],
          "name": "stderr"
        },
        {
          "output_type": "stream",
          "text": [
            "E21 loss=[165.28,165.52] acc=[41.11,40.95]\n"
          ],
          "name": "stdout"
        },
        {
          "output_type": "stream",
          "text": [
            " 23%|██▎       | 23/100 [04:50<16:10, 12.61s/it]"
          ],
          "name": "stderr"
        },
        {
          "output_type": "stream",
          "text": [
            "E22 loss=[163.60,163.76] acc=[42.02,41.94]\n"
          ],
          "name": "stdout"
        },
        {
          "output_type": "stream",
          "text": [
            " 24%|██▍       | 24/100 [05:03<15:58, 12.61s/it]"
          ],
          "name": "stderr"
        },
        {
          "output_type": "stream",
          "text": [
            "E23 loss=[163.22,163.67] acc=[41.78,41.32]\n"
          ],
          "name": "stdout"
        },
        {
          "output_type": "stream",
          "text": [
            " 25%|██▌       | 25/100 [05:15<15:46, 12.62s/it]"
          ],
          "name": "stderr"
        },
        {
          "output_type": "stream",
          "text": [
            "E24 loss=[161.23,161.71] acc=[42.46,42.36]\n"
          ],
          "name": "stdout"
        },
        {
          "output_type": "stream",
          "text": [
            " 26%|██▌       | 26/100 [05:28<15:32, 12.60s/it]"
          ],
          "name": "stderr"
        },
        {
          "output_type": "stream",
          "text": [
            "E25 loss=[160.02,160.43] acc=[43.02,42.82]\n"
          ],
          "name": "stdout"
        },
        {
          "output_type": "stream",
          "text": [
            " 27%|██▋       | 27/100 [05:40<15:18, 12.58s/it]"
          ],
          "name": "stderr"
        },
        {
          "output_type": "stream",
          "text": [
            "E26 loss=[158.95,159.63] acc=[43.32,43.12]\n"
          ],
          "name": "stdout"
        },
        {
          "output_type": "stream",
          "text": [
            " 28%|██▊       | 28/100 [05:53<15:04, 12.57s/it]"
          ],
          "name": "stderr"
        },
        {
          "output_type": "stream",
          "text": [
            "E27 loss=[159.53,160.57] acc=[42.74,42.87]\n"
          ],
          "name": "stdout"
        },
        {
          "output_type": "stream",
          "text": [
            " 29%|██▉       | 29/100 [06:05<14:53, 12.59s/it]"
          ],
          "name": "stderr"
        },
        {
          "output_type": "stream",
          "text": [
            "E28 loss=[156.08,156.98] acc=[44.50,44.36]\n"
          ],
          "name": "stdout"
        },
        {
          "output_type": "stream",
          "text": [
            " 30%|███       | 30/100 [06:18<14:42, 12.61s/it]"
          ],
          "name": "stderr"
        },
        {
          "output_type": "stream",
          "text": [
            "E29 loss=[155.22,156.33] acc=[44.64,43.96]\n"
          ],
          "name": "stdout"
        },
        {
          "output_type": "stream",
          "text": [
            " 31%|███       | 31/100 [06:31<14:30, 12.62s/it]"
          ],
          "name": "stderr"
        },
        {
          "output_type": "stream",
          "text": [
            "E30 loss=[154.18,155.43] acc=[45.16,44.47]\n"
          ],
          "name": "stdout"
        },
        {
          "output_type": "stream",
          "text": [
            " 32%|███▏      | 32/100 [06:43<14:18, 12.63s/it]"
          ],
          "name": "stderr"
        },
        {
          "output_type": "stream",
          "text": [
            "E31 loss=[152.92,154.43] acc=[45.65,44.91]\n"
          ],
          "name": "stdout"
        },
        {
          "output_type": "stream",
          "text": [
            " 33%|███▎      | 33/100 [06:56<14:06, 12.63s/it]"
          ],
          "name": "stderr"
        },
        {
          "output_type": "stream",
          "text": [
            "E32 loss=[152.61,154.43] acc=[45.45,44.75]\n"
          ],
          "name": "stdout"
        },
        {
          "output_type": "stream",
          "text": [
            " 34%|███▍      | 34/100 [07:09<13:51, 12.60s/it]"
          ],
          "name": "stderr"
        },
        {
          "output_type": "stream",
          "text": [
            "E33 loss=[151.31,153.11] acc=[46.12,45.39]\n"
          ],
          "name": "stdout"
        },
        {
          "output_type": "stream",
          "text": [
            " 35%|███▌      | 35/100 [07:21<13:40, 12.62s/it]"
          ],
          "name": "stderr"
        },
        {
          "output_type": "stream",
          "text": [
            "E34 loss=[149.61,151.59] acc=[46.79,45.68]\n"
          ],
          "name": "stdout"
        },
        {
          "output_type": "stream",
          "text": [
            " 36%|███▌      | 36/100 [07:34<13:27, 12.61s/it]"
          ],
          "name": "stderr"
        },
        {
          "output_type": "stream",
          "text": [
            "E35 loss=[148.95,151.34] acc=[46.95,45.99]\n"
          ],
          "name": "stdout"
        },
        {
          "output_type": "stream",
          "text": [
            " 37%|███▋      | 37/100 [07:47<13:22, 12.73s/it]"
          ],
          "name": "stderr"
        },
        {
          "output_type": "stream",
          "text": [
            "E36 loss=[147.55,150.14] acc=[47.41,46.26]\n"
          ],
          "name": "stdout"
        },
        {
          "output_type": "stream",
          "text": [
            " 38%|███▊      | 38/100 [07:59<13:06, 12.68s/it]"
          ],
          "name": "stderr"
        },
        {
          "output_type": "stream",
          "text": [
            "E37 loss=[146.28,149.03] acc=[48.11,46.80]\n"
          ],
          "name": "stdout"
        },
        {
          "output_type": "stream",
          "text": [
            " 39%|███▉      | 39/100 [08:12<12:52, 12.66s/it]"
          ],
          "name": "stderr"
        },
        {
          "output_type": "stream",
          "text": [
            "E38 loss=[146.07,149.11] acc=[48.04,46.93]\n"
          ],
          "name": "stdout"
        },
        {
          "output_type": "stream",
          "text": [
            " 40%|████      | 40/100 [08:25<12:39, 12.65s/it]"
          ],
          "name": "stderr"
        },
        {
          "output_type": "stream",
          "text": [
            "E39 loss=[145.56,148.66] acc=[48.29,47.10]\n"
          ],
          "name": "stdout"
        },
        {
          "output_type": "stream",
          "text": [
            " 41%|████      | 41/100 [08:37<12:25, 12.64s/it]"
          ],
          "name": "stderr"
        },
        {
          "output_type": "stream",
          "text": [
            "E40 loss=[144.17,147.81] acc=[48.60,47.16]\n"
          ],
          "name": "stdout"
        },
        {
          "output_type": "stream",
          "text": [
            " 42%|████▏     | 42/100 [08:50<12:12, 12.64s/it]"
          ],
          "name": "stderr"
        },
        {
          "output_type": "stream",
          "text": [
            "E41 loss=[144.76,148.91] acc=[48.15,46.56]\n"
          ],
          "name": "stdout"
        },
        {
          "output_type": "stream",
          "text": [
            " 43%|████▎     | 43/100 [09:03<12:00, 12.64s/it]"
          ],
          "name": "stderr"
        },
        {
          "output_type": "stream",
          "text": [
            "E42 loss=[141.89,145.91] acc=[49.43,47.89]\n"
          ],
          "name": "stdout"
        },
        {
          "output_type": "stream",
          "text": [
            " 44%|████▍     | 44/100 [09:15<11:48, 12.65s/it]"
          ],
          "name": "stderr"
        },
        {
          "output_type": "stream",
          "text": [
            "E43 loss=[142.11,146.51] acc=[49.30,47.22]\n"
          ],
          "name": "stdout"
        },
        {
          "output_type": "stream",
          "text": [
            " 45%|████▌     | 45/100 [09:28<11:35, 12.64s/it]"
          ],
          "name": "stderr"
        },
        {
          "output_type": "stream",
          "text": [
            "E44 loss=[140.24,145.08] acc=[49.91,47.70]\n"
          ],
          "name": "stdout"
        },
        {
          "output_type": "stream",
          "text": [
            " 46%|████▌     | 46/100 [09:40<11:20, 12.61s/it]"
          ],
          "name": "stderr"
        },
        {
          "output_type": "stream",
          "text": [
            "E45 loss=[140.64,145.40] acc=[50.18,47.80]\n"
          ],
          "name": "stdout"
        },
        {
          "output_type": "stream",
          "text": [
            " 47%|████▋     | 47/100 [09:53<11:07, 12.59s/it]"
          ],
          "name": "stderr"
        },
        {
          "output_type": "stream",
          "text": [
            "E46 loss=[138.51,143.84] acc=[50.77,48.93]\n"
          ],
          "name": "stdout"
        },
        {
          "output_type": "stream",
          "text": [
            " 48%|████▊     | 48/100 [10:05<10:53, 12.57s/it]"
          ],
          "name": "stderr"
        },
        {
          "output_type": "stream",
          "text": [
            "E47 loss=[136.91,142.66] acc=[51.33,48.95]\n"
          ],
          "name": "stdout"
        },
        {
          "output_type": "stream",
          "text": [
            " 49%|████▉     | 49/100 [10:18<10:46, 12.69s/it]"
          ],
          "name": "stderr"
        },
        {
          "output_type": "stream",
          "text": [
            "E48 loss=[137.80,143.60] acc=[50.85,48.83]\n"
          ],
          "name": "stdout"
        },
        {
          "output_type": "stream",
          "text": [
            " 50%|█████     | 50/100 [10:31<10:31, 12.64s/it]"
          ],
          "name": "stderr"
        },
        {
          "output_type": "stream",
          "text": [
            "E49 loss=[137.03,143.17] acc=[51.18,49.35]\n"
          ],
          "name": "stdout"
        },
        {
          "output_type": "stream",
          "text": [
            " 51%|█████     | 51/100 [10:44<10:24, 12.75s/it]"
          ],
          "name": "stderr"
        },
        {
          "output_type": "stream",
          "text": [
            "E50 loss=[140.55,147.93] acc=[49.25,46.98]\n"
          ],
          "name": "stdout"
        },
        {
          "output_type": "stream",
          "text": [
            " 52%|█████▏    | 52/100 [10:57<10:10, 12.71s/it]"
          ],
          "name": "stderr"
        },
        {
          "output_type": "stream",
          "text": [
            "E51 loss=[136.23,143.79] acc=[51.52,49.05]\n"
          ],
          "name": "stdout"
        },
        {
          "output_type": "stream",
          "text": [
            " 53%|█████▎    | 53/100 [11:09<09:56, 12.69s/it]"
          ],
          "name": "stderr"
        },
        {
          "output_type": "stream",
          "text": [
            "E52 loss=[132.72,140.17] acc=[52.71,49.84]\n"
          ],
          "name": "stdout"
        },
        {
          "output_type": "stream",
          "text": [
            " 54%|█████▍    | 54/100 [11:22<09:42, 12.67s/it]"
          ],
          "name": "stderr"
        },
        {
          "output_type": "stream",
          "text": [
            "E53 loss=[132.12,140.11] acc=[52.89,49.64]\n"
          ],
          "name": "stdout"
        },
        {
          "output_type": "stream",
          "text": [
            " 55%|█████▌    | 55/100 [11:35<09:30, 12.68s/it]"
          ],
          "name": "stderr"
        },
        {
          "output_type": "stream",
          "text": [
            "E54 loss=[136.98,145.35] acc=[51.26,48.36]\n"
          ],
          "name": "stdout"
        },
        {
          "output_type": "stream",
          "text": [
            " 56%|█████▌    | 56/100 [11:47<09:15, 12.62s/it]"
          ],
          "name": "stderr"
        },
        {
          "output_type": "stream",
          "text": [
            "E55 loss=[132.01,140.89] acc=[52.65,49.61]\n"
          ],
          "name": "stdout"
        },
        {
          "output_type": "stream",
          "text": [
            " 57%|█████▋    | 57/100 [12:00<09:02, 12.61s/it]"
          ],
          "name": "stderr"
        },
        {
          "output_type": "stream",
          "text": [
            "E56 loss=[129.66,138.70] acc=[53.81,50.35]\n"
          ],
          "name": "stdout"
        },
        {
          "output_type": "stream",
          "text": [
            " 58%|█████▊    | 58/100 [12:12<08:50, 12.62s/it]"
          ],
          "name": "stderr"
        },
        {
          "output_type": "stream",
          "text": [
            "E57 loss=[131.94,141.41] acc=[52.94,49.42]\n"
          ],
          "name": "stdout"
        },
        {
          "output_type": "stream",
          "text": [
            " 59%|█████▉    | 59/100 [12:25<08:37, 12.63s/it]"
          ],
          "name": "stderr"
        },
        {
          "output_type": "stream",
          "text": [
            "E58 loss=[128.94,138.83] acc=[53.76,50.20]\n"
          ],
          "name": "stdout"
        },
        {
          "output_type": "stream",
          "text": [
            " 60%|██████    | 60/100 [12:38<08:25, 12.65s/it]"
          ],
          "name": "stderr"
        },
        {
          "output_type": "stream",
          "text": [
            "E59 loss=[130.77,141.28] acc=[52.85,49.52]\n"
          ],
          "name": "stdout"
        },
        {
          "output_type": "stream",
          "text": [
            " 61%|██████    | 61/100 [12:50<08:13, 12.65s/it]"
          ],
          "name": "stderr"
        },
        {
          "output_type": "stream",
          "text": [
            "E60 loss=[133.81,144.24] acc=[52.11,48.63]\n"
          ],
          "name": "stdout"
        },
        {
          "output_type": "stream",
          "text": [
            " 62%|██████▏   | 62/100 [13:03<08:00, 12.65s/it]"
          ],
          "name": "stderr"
        },
        {
          "output_type": "stream",
          "text": [
            "E61 loss=[126.18,137.46] acc=[54.93,51.14]\n"
          ],
          "name": "stdout"
        },
        {
          "output_type": "stream",
          "text": [
            " 63%|██████▎   | 63/100 [13:16<07:47, 12.64s/it]"
          ],
          "name": "stderr"
        },
        {
          "output_type": "stream",
          "text": [
            "E62 loss=[128.77,140.76] acc=[54.17,50.11]\n"
          ],
          "name": "stdout"
        },
        {
          "output_type": "stream",
          "text": [
            " 64%|██████▍   | 64/100 [13:28<07:34, 12.62s/it]"
          ],
          "name": "stderr"
        },
        {
          "output_type": "stream",
          "text": [
            "E63 loss=[126.76,138.67] acc=[54.57,50.51]\n"
          ],
          "name": "stdout"
        },
        {
          "output_type": "stream",
          "text": [
            " 65%|██████▌   | 65/100 [13:41<07:22, 12.65s/it]"
          ],
          "name": "stderr"
        },
        {
          "output_type": "stream",
          "text": [
            "E64 loss=[122.55,135.48] acc=[56.30,51.57]\n"
          ],
          "name": "stdout"
        },
        {
          "output_type": "stream",
          "text": [
            " 66%|██████▌   | 66/100 [13:53<07:10, 12.66s/it]"
          ],
          "name": "stderr"
        },
        {
          "output_type": "stream",
          "text": [
            "E65 loss=[124.47,137.34] acc=[55.84,51.36]\n"
          ],
          "name": "stdout"
        },
        {
          "output_type": "stream",
          "text": [
            " 67%|██████▋   | 67/100 [14:06<06:57, 12.66s/it]"
          ],
          "name": "stderr"
        },
        {
          "output_type": "stream",
          "text": [
            "E66 loss=[121.34,135.25] acc=[56.60,51.65]\n"
          ],
          "name": "stdout"
        },
        {
          "output_type": "stream",
          "text": [
            " 68%|██████▊   | 68/100 [14:19<06:44, 12.63s/it]"
          ],
          "name": "stderr"
        },
        {
          "output_type": "stream",
          "text": [
            "E67 loss=[123.79,137.53] acc=[55.89,51.31]\n"
          ],
          "name": "stdout"
        },
        {
          "output_type": "stream",
          "text": [
            " 69%|██████▉   | 69/100 [14:31<06:30, 12.60s/it]"
          ],
          "name": "stderr"
        },
        {
          "output_type": "stream",
          "text": [
            "E68 loss=[119.03,133.98] acc=[57.88,52.39]\n"
          ],
          "name": "stdout"
        },
        {
          "output_type": "stream",
          "text": [
            " 70%|███████   | 70/100 [14:44<06:22, 12.73s/it]"
          ],
          "name": "stderr"
        },
        {
          "output_type": "stream",
          "text": [
            "E69 loss=[119.40,134.71] acc=[57.42,52.35]\n"
          ],
          "name": "stdout"
        },
        {
          "output_type": "stream",
          "text": [
            " 71%|███████   | 71/100 [14:57<06:07, 12.68s/it]"
          ],
          "name": "stderr"
        },
        {
          "output_type": "stream",
          "text": [
            "E70 loss=[126.41,142.81] acc=[55.26,50.15]\n"
          ],
          "name": "stdout"
        },
        {
          "output_type": "stream",
          "text": [
            " 72%|███████▏  | 72/100 [15:10<05:54, 12.67s/it]"
          ],
          "name": "stderr"
        },
        {
          "output_type": "stream",
          "text": [
            "E71 loss=[124.06,140.62] acc=[56.10,50.55]\n"
          ],
          "name": "stdout"
        },
        {
          "output_type": "stream",
          "text": [
            " 73%|███████▎  | 73/100 [15:22<05:40, 12.63s/it]"
          ],
          "name": "stderr"
        },
        {
          "output_type": "stream",
          "text": [
            "E72 loss=[117.29,134.13] acc=[58.04,52.70]\n"
          ],
          "name": "stdout"
        },
        {
          "output_type": "stream",
          "text": [
            " 74%|███████▍  | 74/100 [15:35<05:28, 12.63s/it]"
          ],
          "name": "stderr"
        },
        {
          "output_type": "stream",
          "text": [
            "E73 loss=[119.73,137.72] acc=[57.63,51.31]\n"
          ],
          "name": "stdout"
        },
        {
          "output_type": "stream",
          "text": [
            " 75%|███████▌  | 75/100 [15:47<05:14, 12.58s/it]"
          ],
          "name": "stderr"
        },
        {
          "output_type": "stream",
          "text": [
            "E74 loss=[120.09,137.79] acc=[56.87,50.91]\n"
          ],
          "name": "stdout"
        },
        {
          "output_type": "stream",
          "text": [
            " 76%|███████▌  | 76/100 [16:00<05:02, 12.59s/it]"
          ],
          "name": "stderr"
        },
        {
          "output_type": "stream",
          "text": [
            "E75 loss=[115.76,134.43] acc=[58.24,51.80]\n"
          ],
          "name": "stdout"
        },
        {
          "output_type": "stream",
          "text": [
            " 77%|███████▋  | 77/100 [16:12<04:49, 12.60s/it]"
          ],
          "name": "stderr"
        },
        {
          "output_type": "stream",
          "text": [
            "E76 loss=[114.39,133.83] acc=[59.11,52.56]\n"
          ],
          "name": "stdout"
        },
        {
          "output_type": "stream",
          "text": [
            " 78%|███████▊  | 78/100 [16:25<04:37, 12.61s/it]"
          ],
          "name": "stderr"
        },
        {
          "output_type": "stream",
          "text": [
            "E77 loss=[111.56,131.20] acc=[60.26,53.18]\n"
          ],
          "name": "stdout"
        },
        {
          "output_type": "stream",
          "text": [
            " 79%|███████▉  | 79/100 [16:38<04:24, 12.59s/it]"
          ],
          "name": "stderr"
        },
        {
          "output_type": "stream",
          "text": [
            "E78 loss=[111.59,132.54] acc=[60.23,52.37]\n"
          ],
          "name": "stdout"
        },
        {
          "output_type": "stream",
          "text": [
            " 80%|████████  | 80/100 [16:50<04:11, 12.59s/it]"
          ],
          "name": "stderr"
        },
        {
          "output_type": "stream",
          "text": [
            "E79 loss=[112.71,133.63] acc=[59.82,52.91]\n"
          ],
          "name": "stdout"
        },
        {
          "output_type": "stream",
          "text": [
            " 81%|████████  | 81/100 [17:03<03:59, 12.60s/it]"
          ],
          "name": "stderr"
        },
        {
          "output_type": "stream",
          "text": [
            "E80 loss=[112.45,134.57] acc=[59.03,51.57]\n"
          ],
          "name": "stdout"
        },
        {
          "output_type": "stream",
          "text": [
            " 82%|████████▏ | 82/100 [17:15<03:46, 12.59s/it]"
          ],
          "name": "stderr"
        },
        {
          "output_type": "stream",
          "text": [
            "E81 loss=[112.51,134.64] acc=[60.06,52.55]\n"
          ],
          "name": "stdout"
        },
        {
          "output_type": "stream",
          "text": [
            " 83%|████████▎ | 83/100 [17:28<03:34, 12.60s/it]"
          ],
          "name": "stderr"
        },
        {
          "output_type": "stream",
          "text": [
            "E82 loss=[121.70,145.06] acc=[56.11,49.84]\n"
          ],
          "name": "stdout"
        },
        {
          "output_type": "stream",
          "text": [
            " 84%|████████▍ | 84/100 [17:41<03:21, 12.61s/it]"
          ],
          "name": "stderr"
        },
        {
          "output_type": "stream",
          "text": [
            "E83 loss=[109.20,133.36] acc=[61.04,52.66]\n"
          ],
          "name": "stdout"
        },
        {
          "output_type": "stream",
          "text": [
            " 85%|████████▌ | 85/100 [17:53<03:09, 12.62s/it]"
          ],
          "name": "stderr"
        },
        {
          "output_type": "stream",
          "text": [
            "E84 loss=[107.85,132.49] acc=[61.29,52.73]\n"
          ],
          "name": "stdout"
        },
        {
          "output_type": "stream",
          "text": [
            " 86%|████████▌ | 86/100 [18:06<02:58, 12.74s/it]"
          ],
          "name": "stderr"
        },
        {
          "output_type": "stream",
          "text": [
            "E85 loss=[111.84,137.08] acc=[60.16,52.28]\n"
          ],
          "name": "stdout"
        },
        {
          "output_type": "stream",
          "text": [
            " 87%|████████▋ | 87/100 [18:19<02:45, 12.71s/it]"
          ],
          "name": "stderr"
        },
        {
          "output_type": "stream",
          "text": [
            "E86 loss=[117.39,142.51] acc=[58.08,50.63]\n"
          ],
          "name": "stdout"
        },
        {
          "output_type": "stream",
          "text": [
            " 88%|████████▊ | 88/100 [18:32<02:32, 12.68s/it]"
          ],
          "name": "stderr"
        },
        {
          "output_type": "stream",
          "text": [
            "E87 loss=[105.43,131.88] acc=[62.47,53.87]\n"
          ],
          "name": "stdout"
        },
        {
          "output_type": "stream",
          "text": [
            " 89%|████████▉ | 89/100 [18:44<02:19, 12.65s/it]"
          ],
          "name": "stderr"
        },
        {
          "output_type": "stream",
          "text": [
            "E88 loss=[105.79,133.63] acc=[62.12,52.36]\n"
          ],
          "name": "stdout"
        },
        {
          "output_type": "stream",
          "text": [
            " 90%|█████████ | 90/100 [18:57<02:06, 12.61s/it]"
          ],
          "name": "stderr"
        },
        {
          "output_type": "stream",
          "text": [
            "E89 loss=[107.61,135.46] acc=[61.41,52.64]\n"
          ],
          "name": "stdout"
        },
        {
          "output_type": "stream",
          "text": [
            " 91%|█████████ | 91/100 [19:10<01:54, 12.74s/it]"
          ],
          "name": "stderr"
        },
        {
          "output_type": "stream",
          "text": [
            "E90 loss=[104.42,132.90] acc=[62.62,53.30]\n"
          ],
          "name": "stdout"
        },
        {
          "output_type": "stream",
          "text": [
            " 92%|█████████▏| 92/100 [19:22<01:41, 12.70s/it]"
          ],
          "name": "stderr"
        },
        {
          "output_type": "stream",
          "text": [
            "E91 loss=[109.87,140.00] acc=[60.43,51.08]\n"
          ],
          "name": "stdout"
        },
        {
          "output_type": "stream",
          "text": [
            " 93%|█████████▎| 93/100 [19:35<01:28, 12.66s/it]"
          ],
          "name": "stderr"
        },
        {
          "output_type": "stream",
          "text": [
            "E92 loss=[106.83,138.39] acc=[61.59,52.15]\n"
          ],
          "name": "stdout"
        },
        {
          "output_type": "stream",
          "text": [
            " 94%|█████████▍| 94/100 [19:47<01:15, 12.64s/it]"
          ],
          "name": "stderr"
        },
        {
          "output_type": "stream",
          "text": [
            "E93 loss=[104.17,136.08] acc=[62.58,52.58]\n"
          ],
          "name": "stdout"
        },
        {
          "output_type": "stream",
          "text": [
            " 95%|█████████▌| 95/100 [20:00<01:03, 12.64s/it]"
          ],
          "name": "stderr"
        },
        {
          "output_type": "stream",
          "text": [
            "E94 loss=[102.94,135.25] acc=[63.25,52.71]\n"
          ],
          "name": "stdout"
        },
        {
          "output_type": "stream",
          "text": [
            " 96%|█████████▌| 96/100 [20:13<00:50, 12.62s/it]"
          ],
          "name": "stderr"
        },
        {
          "output_type": "stream",
          "text": [
            "E95 loss=[ 99.89,132.62] acc=[64.55,53.59]\n"
          ],
          "name": "stdout"
        },
        {
          "output_type": "stream",
          "text": [
            " 97%|█████████▋| 97/100 [20:25<00:37, 12.61s/it]"
          ],
          "name": "stderr"
        },
        {
          "output_type": "stream",
          "text": [
            "E96 loss=[ 99.65,133.17] acc=[63.63,53.17]\n"
          ],
          "name": "stdout"
        },
        {
          "output_type": "stream",
          "text": [
            " 98%|█████████▊| 98/100 [20:38<00:25, 12.62s/it]"
          ],
          "name": "stderr"
        },
        {
          "output_type": "stream",
          "text": [
            "E97 loss=[ 96.51,131.13] acc=[65.83,54.05]\n"
          ],
          "name": "stdout"
        },
        {
          "output_type": "stream",
          "text": [
            " 99%|█████████▉| 99/100 [20:50<00:12, 12.62s/it]"
          ],
          "name": "stderr"
        },
        {
          "output_type": "stream",
          "text": [
            "E98 loss=[117.86,154.23] acc=[57.39,47.61]\n"
          ],
          "name": "stdout"
        },
        {
          "output_type": "stream",
          "text": [
            "100%|██████████| 100/100 [21:03<00:00, 12.64s/it]"
          ],
          "name": "stderr"
        },
        {
          "output_type": "stream",
          "text": [
            "E99 loss=[ 95.83,131.53] acc=[65.90,54.12]\n"
          ],
          "name": "stdout"
        },
        {
          "output_type": "stream",
          "text": [
            "\n"
          ],
          "name": "stderr"
        },
        {
          "output_type": "display_data",
          "data": {
            "image/png": "[encoded data removed]",
            "text/plain": [
              "<Figure size 1152x648 with 2 Axes>"
            ]
          },
          "metadata": {
            "tags": []
          }
        }
      ]
    },
    {
      "cell_type": "markdown",
      "metadata": {
        "id": "worse-thomson"
      },
      "source": [
        "### Modelo 3\n",
        "\n",
        "Debido a que el modelo anterior se tarda considerablemente, se plantea procesar la imagen, promediando sus canales, es decir, se realiza una transformación de color a escala de grises. La arquitectura es similar al del modelo pasado"
      ],
      "id": "worse-thomson"
    },
    {
      "cell_type": "code",
      "metadata": {
        "id": "maritime-matter"
      },
      "source": [
        "class CIFAR10Model3(nn.Module):\n",
        "    \n",
        "    # inicializador\n",
        "    def __init__(self):\n",
        "        \n",
        "        # inicilización del objeto padre, obligatorio\n",
        "        super().__init__()\n",
        "        \n",
        "        # tamaño de las capas\n",
        "        self.I = 32 * 32\n",
        "        FC1 = 2*self.I + 1\n",
        "        FC2 = self.I//2\n",
        "        FC3 = FC2//2\n",
        "        n_classes = 10\n",
        "        \n",
        "        # definición de capas\n",
        "        self.cls = nn.Sequential(\n",
        "            \n",
        "            # fc1\n",
        "            # [M, 1x28x28] => [M, 128]\n",
        "            nn.Linear(self.I, FC1),\n",
        "            nn.ReLU(),\n",
        "            \n",
        "            nn.Linear(FC1, FC2),\n",
        "            nn.ReLU(),\n",
        "            # fc2\n",
        "            # [M, 128] => [M, 10]\n",
        "            \n",
        "            nn.Linear(FC2, FC3),\n",
        "            nn.ReLU(),\n",
        "            \n",
        "            \n",
        "            nn.Linear(FC3, n_classes)#,\n",
        "            #nn.Softmax(dim=0)   \n",
        "        )\n",
        "    \n",
        "    # método para inferencia\n",
        "    def forward(self, x):\n",
        "        # Promediando canales\n",
        "        x = x.mean(dim=1) # (batch, canal, ancho, alto)\n",
        "        \n",
        "        # aplanamos los pixeles de la imagen\n",
        "        # [M, 1, 28, 28] => [M, 1x28x28]\n",
        "        x = x.view(-1, self.I)\n",
        "        \n",
        "        # inferencia\n",
        "        # [M, 1x28x28]\n",
        "        x = self.cls(x)\n",
        "        \n",
        "        return x"
      ],
      "id": "maritime-matter",
      "execution_count": null,
      "outputs": []
    },
    {
      "cell_type": "code",
      "metadata": {
        "id": "above-python",
        "outputId": "d7628d73-6a29-4db1-d1d4-029856d48195"
      },
      "source": [
        "# instanciamos un modelo\n",
        "cifar_model3 = CIFAR10Model3().to(dev)\n",
        "# entrenamos\n",
        "loss_hist, acc_hist = train(cifar_model3, cifar_train_dl, cifar_test_dl, epochs=200)\n",
        "\n",
        "plot_evaluation(loss_hist, acc_hist)"
      ],
      "id": "above-python",
      "execution_count": null,
      "outputs": [
        {
          "output_type": "stream",
          "text": [
            "  0%|          | 1/200 [00:12<39:54, 12.03s/it]"
          ],
          "name": "stderr"
        },
        {
          "output_type": "stream",
          "text": [
            "E00 loss=[229.31,229.32] acc=[11.45,11.50]\n"
          ],
          "name": "stdout"
        },
        {
          "output_type": "stream",
          "text": [
            "  1%|          | 2/200 [00:24<41:29, 12.57s/it]"
          ],
          "name": "stderr"
        },
        {
          "output_type": "stream",
          "text": [
            "E01 loss=[228.36,228.37] acc=[12.73,12.59]\n"
          ],
          "name": "stdout"
        },
        {
          "output_type": "stream",
          "text": [
            "  2%|▏         | 3/200 [00:37<41:24, 12.61s/it]"
          ],
          "name": "stderr"
        },
        {
          "output_type": "stream",
          "text": [
            "E02 loss=[226.99,227.02] acc=[17.60,17.57]\n"
          ],
          "name": "stdout"
        },
        {
          "output_type": "stream",
          "text": [
            "  2%|▏         | 4/200 [00:49<40:28, 12.39s/it]"
          ],
          "name": "stderr"
        },
        {
          "output_type": "stream",
          "text": [
            "E03 loss=[224.87,224.93] acc=[19.85,19.78]\n"
          ],
          "name": "stdout"
        },
        {
          "output_type": "stream",
          "text": [
            "  2%|▎         | 5/200 [01:02<40:51, 12.57s/it]"
          ],
          "name": "stderr"
        },
        {
          "output_type": "stream",
          "text": [
            "E04 loss=[221.83,221.95] acc=[20.23,20.38]\n"
          ],
          "name": "stdout"
        },
        {
          "output_type": "stream",
          "text": [
            "  3%|▎         | 6/200 [01:14<40:13, 12.44s/it]"
          ],
          "name": "stderr"
        },
        {
          "output_type": "stream",
          "text": [
            "E05 loss=[218.60,218.73] acc=[19.84,20.03]\n"
          ],
          "name": "stdout"
        },
        {
          "output_type": "stream",
          "text": [
            "  4%|▎         | 7/200 [01:26<39:40, 12.33s/it]"
          ],
          "name": "stderr"
        },
        {
          "output_type": "stream",
          "text": [
            "E06 loss=[216.30,216.42] acc=[20.79,20.64]\n"
          ],
          "name": "stdout"
        },
        {
          "output_type": "stream",
          "text": [
            "  4%|▍         | 8/200 [01:39<39:19, 12.29s/it]"
          ],
          "name": "stderr"
        },
        {
          "output_type": "stream",
          "text": [
            "E07 loss=[214.73,214.85] acc=[20.88,20.87]\n"
          ],
          "name": "stdout"
        },
        {
          "output_type": "stream",
          "text": [
            "  4%|▍         | 9/200 [01:51<39:32, 12.42s/it]"
          ],
          "name": "stderr"
        },
        {
          "output_type": "stream",
          "text": [
            "E08 loss=[213.31,213.45] acc=[22.20,22.46]\n"
          ],
          "name": "stdout"
        },
        {
          "output_type": "stream",
          "text": [
            "  5%|▌         | 10/200 [02:04<39:16, 12.40s/it]"
          ],
          "name": "stderr"
        },
        {
          "output_type": "stream",
          "text": [
            "E09 loss=[211.81,211.96] acc=[22.92,22.81]\n"
          ],
          "name": "stdout"
        },
        {
          "output_type": "stream",
          "text": [
            "  6%|▌         | 11/200 [02:16<38:52, 12.34s/it]"
          ],
          "name": "stderr"
        },
        {
          "output_type": "stream",
          "text": [
            "E10 loss=[210.21,210.35] acc=[23.34,23.72]\n"
          ],
          "name": "stdout"
        },
        {
          "output_type": "stream",
          "text": [
            "  6%|▌         | 12/200 [02:28<38:26, 12.27s/it]"
          ],
          "name": "stderr"
        },
        {
          "output_type": "stream",
          "text": [
            "E11 loss=[208.67,208.84] acc=[23.84,23.75]\n"
          ],
          "name": "stdout"
        },
        {
          "output_type": "stream",
          "text": [
            "  6%|▋         | 13/200 [02:40<38:06, 12.23s/it]"
          ],
          "name": "stderr"
        },
        {
          "output_type": "stream",
          "text": [
            "E12 loss=[207.02,207.26] acc=[25.24,25.23]\n"
          ],
          "name": "stdout"
        },
        {
          "output_type": "stream",
          "text": [
            "  7%|▋         | 14/200 [02:52<37:43, 12.17s/it]"
          ],
          "name": "stderr"
        },
        {
          "output_type": "stream",
          "text": [
            "E13 loss=[205.70,205.95] acc=[25.94,26.11]\n"
          ],
          "name": "stdout"
        },
        {
          "output_type": "stream",
          "text": [
            "  8%|▊         | 15/200 [03:04<37:30, 12.16s/it]"
          ],
          "name": "stderr"
        },
        {
          "output_type": "stream",
          "text": [
            "E14 loss=[204.52,204.79] acc=[26.76,27.09]\n"
          ],
          "name": "stdout"
        },
        {
          "output_type": "stream",
          "text": [
            "  8%|▊         | 16/200 [03:16<37:12, 12.13s/it]"
          ],
          "name": "stderr"
        },
        {
          "output_type": "stream",
          "text": [
            "E15 loss=[203.65,203.89] acc=[26.60,26.86]\n"
          ],
          "name": "stdout"
        },
        {
          "output_type": "stream",
          "text": [
            "  8%|▊         | 17/200 [03:28<36:50, 12.08s/it]"
          ],
          "name": "stderr"
        },
        {
          "output_type": "stream",
          "text": [
            "E16 loss=[202.71,203.00] acc=[27.18,27.60]\n"
          ],
          "name": "stdout"
        },
        {
          "output_type": "stream",
          "text": [
            "  9%|▉         | 18/200 [03:40<36:39, 12.08s/it]"
          ],
          "name": "stderr"
        },
        {
          "output_type": "stream",
          "text": [
            "E17 loss=[202.11,202.37] acc=[27.64,27.74]\n"
          ],
          "name": "stdout"
        },
        {
          "output_type": "stream",
          "text": [
            " 10%|▉         | 19/200 [03:53<36:31, 12.11s/it]"
          ],
          "name": "stderr"
        },
        {
          "output_type": "stream",
          "text": [
            "E18 loss=[201.10,201.40] acc=[27.67,27.96]\n"
          ],
          "name": "stdout"
        },
        {
          "output_type": "stream",
          "text": [
            " 10%|█         | 20/200 [04:05<36:52, 12.29s/it]"
          ],
          "name": "stderr"
        },
        {
          "output_type": "stream",
          "text": [
            "E19 loss=[200.35,200.68] acc=[28.06,28.41]\n"
          ],
          "name": "stdout"
        },
        {
          "output_type": "stream",
          "text": [
            " 10%|█         | 21/200 [04:17<36:36, 12.27s/it]"
          ],
          "name": "stderr"
        },
        {
          "output_type": "stream",
          "text": [
            "E20 loss=[199.74,200.04] acc=[28.51,28.54]\n"
          ],
          "name": "stdout"
        },
        {
          "output_type": "stream",
          "text": [
            " 11%|█         | 22/200 [04:30<36:41, 12.37s/it]"
          ],
          "name": "stderr"
        },
        {
          "output_type": "stream",
          "text": [
            "E21 loss=[198.97,199.27] acc=[28.63,28.80]\n"
          ],
          "name": "stdout"
        },
        {
          "output_type": "stream",
          "text": [
            " 12%|█▏        | 23/200 [04:42<36:21, 12.32s/it]"
          ],
          "name": "stderr"
        },
        {
          "output_type": "stream",
          "text": [
            "E22 loss=[198.23,198.54] acc=[28.80,28.90]\n"
          ],
          "name": "stdout"
        },
        {
          "output_type": "stream",
          "text": [
            " 12%|█▏        | 24/200 [04:55<36:33, 12.47s/it]"
          ],
          "name": "stderr"
        },
        {
          "output_type": "stream",
          "text": [
            "E23 loss=[197.47,197.82] acc=[29.18,29.36]\n"
          ],
          "name": "stdout"
        },
        {
          "output_type": "stream",
          "text": [
            " 12%|█▎        | 25/200 [05:07<36:15, 12.43s/it]"
          ],
          "name": "stderr"
        },
        {
          "output_type": "stream",
          "text": [
            "E24 loss=[196.85,197.18] acc=[29.44,29.54]\n"
          ],
          "name": "stdout"
        },
        {
          "output_type": "stream",
          "text": [
            " 13%|█▎        | 26/200 [05:21<36:44, 12.67s/it]"
          ],
          "name": "stderr"
        },
        {
          "output_type": "stream",
          "text": [
            "E25 loss=[196.15,196.60] acc=[29.77,29.94]\n"
          ],
          "name": "stdout"
        },
        {
          "output_type": "stream",
          "text": [
            " 14%|█▎        | 27/200 [05:33<36:25, 12.63s/it]"
          ],
          "name": "stderr"
        },
        {
          "output_type": "stream",
          "text": [
            "E26 loss=[195.32,195.69] acc=[29.91,30.15]\n"
          ],
          "name": "stdout"
        },
        {
          "output_type": "stream",
          "text": [
            " 14%|█▍        | 28/200 [05:46<35:55, 12.53s/it]"
          ],
          "name": "stderr"
        },
        {
          "output_type": "stream",
          "text": [
            "E27 loss=[194.75,195.15] acc=[30.36,30.54]\n"
          ],
          "name": "stdout"
        },
        {
          "output_type": "stream",
          "text": [
            " 14%|█▍        | 29/200 [05:58<35:26, 12.44s/it]"
          ],
          "name": "stderr"
        },
        {
          "output_type": "stream",
          "text": [
            "E28 loss=[193.85,194.23] acc=[30.97,31.12]\n"
          ],
          "name": "stdout"
        },
        {
          "output_type": "stream",
          "text": [
            " 15%|█▌        | 30/200 [06:11<35:38, 12.58s/it]"
          ],
          "name": "stderr"
        },
        {
          "output_type": "stream",
          "text": [
            "E29 loss=[193.17,193.57] acc=[30.82,31.10]\n"
          ],
          "name": "stdout"
        },
        {
          "output_type": "stream",
          "text": [
            " 16%|█▌        | 31/200 [06:23<35:06, 12.47s/it]"
          ],
          "name": "stderr"
        },
        {
          "output_type": "stream",
          "text": [
            "E30 loss=[192.36,192.80] acc=[31.22,31.19]\n"
          ],
          "name": "stdout"
        },
        {
          "output_type": "stream",
          "text": [
            " 16%|█▌        | 32/200 [06:35<34:43, 12.40s/it]"
          ],
          "name": "stderr"
        },
        {
          "output_type": "stream",
          "text": [
            "E31 loss=[191.52,191.99] acc=[31.53,31.57]\n"
          ],
          "name": "stdout"
        },
        {
          "output_type": "stream",
          "text": [
            " 16%|█▋        | 33/200 [06:47<34:18, 12.33s/it]"
          ],
          "name": "stderr"
        },
        {
          "output_type": "stream",
          "text": [
            "E32 loss=[190.86,191.23] acc=[32.02,32.14]\n"
          ],
          "name": "stdout"
        },
        {
          "output_type": "stream",
          "text": [
            " 17%|█▋        | 34/200 [06:59<33:52, 12.24s/it]"
          ],
          "name": "stderr"
        },
        {
          "output_type": "stream",
          "text": [
            "E33 loss=[190.09,190.62] acc=[32.03,32.02]\n"
          ],
          "name": "stdout"
        },
        {
          "output_type": "stream",
          "text": [
            " 18%|█▊        | 35/200 [07:12<33:38, 12.23s/it]"
          ],
          "name": "stderr"
        },
        {
          "output_type": "stream",
          "text": [
            "E34 loss=[189.22,189.72] acc=[32.39,32.29]\n"
          ],
          "name": "stdout"
        },
        {
          "output_type": "stream",
          "text": [
            " 18%|█▊        | 36/200 [07:24<33:54, 12.41s/it]"
          ],
          "name": "stderr"
        },
        {
          "output_type": "stream",
          "text": [
            "E35 loss=[188.36,188.81] acc=[32.52,32.64]\n"
          ],
          "name": "stdout"
        },
        {
          "output_type": "stream",
          "text": [
            " 18%|█▊        | 37/200 [07:37<34:02, 12.53s/it]"
          ],
          "name": "stderr"
        },
        {
          "output_type": "stream",
          "text": [
            "E36 loss=[187.48,188.01] acc=[33.38,33.15]\n"
          ],
          "name": "stdout"
        },
        {
          "output_type": "stream",
          "text": [
            " 19%|█▉        | 38/200 [07:49<33:36, 12.45s/it]"
          ],
          "name": "stderr"
        },
        {
          "output_type": "stream",
          "text": [
            "E37 loss=[186.70,187.22] acc=[33.50,33.31]\n"
          ],
          "name": "stdout"
        },
        {
          "output_type": "stream",
          "text": [
            " 20%|█▉        | 39/200 [08:02<33:13, 12.38s/it]"
          ],
          "name": "stderr"
        },
        {
          "output_type": "stream",
          "text": [
            "E38 loss=[185.92,186.55] acc=[33.83,33.54]\n"
          ],
          "name": "stdout"
        },
        {
          "output_type": "stream",
          "text": [
            " 20%|██        | 40/200 [08:14<32:54, 12.34s/it]"
          ],
          "name": "stderr"
        },
        {
          "output_type": "stream",
          "text": [
            "E39 loss=[185.21,185.77] acc=[34.06,33.87]\n"
          ],
          "name": "stdout"
        },
        {
          "output_type": "stream",
          "text": [
            " 20%|██        | 41/200 [08:26<32:38, 12.32s/it]"
          ],
          "name": "stderr"
        },
        {
          "output_type": "stream",
          "text": [
            "E40 loss=[184.78,185.37] acc=[34.25,34.05]\n"
          ],
          "name": "stdout"
        },
        {
          "output_type": "stream",
          "text": [
            " 21%|██        | 42/200 [08:39<32:46, 12.45s/it]"
          ],
          "name": "stderr"
        },
        {
          "output_type": "stream",
          "text": [
            "E41 loss=[183.57,184.13] acc=[34.76,34.67]\n"
          ],
          "name": "stdout"
        },
        {
          "output_type": "stream",
          "text": [
            " 22%|██▏       | 43/200 [08:51<32:24, 12.39s/it]"
          ],
          "name": "stderr"
        },
        {
          "output_type": "stream",
          "text": [
            "E42 loss=[183.01,183.73] acc=[34.83,34.58]\n"
          ],
          "name": "stdout"
        },
        {
          "output_type": "stream",
          "text": [
            " 22%|██▏       | 44/200 [09:04<32:12, 12.39s/it]"
          ],
          "name": "stderr"
        },
        {
          "output_type": "stream",
          "text": [
            "E43 loss=[182.73,183.42] acc=[35.03,34.80]\n"
          ],
          "name": "stdout"
        },
        {
          "output_type": "stream",
          "text": [
            " 22%|██▎       | 45/200 [09:16<32:13, 12.48s/it]"
          ],
          "name": "stderr"
        },
        {
          "output_type": "stream",
          "text": [
            "E44 loss=[181.46,182.25] acc=[35.37,35.14]\n"
          ],
          "name": "stdout"
        },
        {
          "output_type": "stream",
          "text": [
            " 23%|██▎       | 46/200 [09:28<31:51, 12.41s/it]"
          ],
          "name": "stderr"
        },
        {
          "output_type": "stream",
          "text": [
            "E45 loss=[180.64,181.49] acc=[35.58,35.19]\n"
          ],
          "name": "stdout"
        },
        {
          "output_type": "stream",
          "text": [
            " 24%|██▎       | 47/200 [09:41<31:23, 12.31s/it]"
          ],
          "name": "stderr"
        },
        {
          "output_type": "stream",
          "text": [
            "E46 loss=[180.59,181.33] acc=[35.61,35.18]\n"
          ],
          "name": "stdout"
        },
        {
          "output_type": "stream",
          "text": [
            " 24%|██▍       | 48/200 [09:53<30:59, 12.23s/it]"
          ],
          "name": "stderr"
        },
        {
          "output_type": "stream",
          "text": [
            "E47 loss=[179.09,179.98] acc=[36.20,35.94]\n"
          ],
          "name": "stdout"
        },
        {
          "output_type": "stream",
          "text": [
            " 24%|██▍       | 49/200 [10:05<30:34, 12.15s/it]"
          ],
          "name": "stderr"
        },
        {
          "output_type": "stream",
          "text": [
            "E48 loss=[178.45,179.43] acc=[36.24,36.06]\n"
          ],
          "name": "stdout"
        },
        {
          "output_type": "stream",
          "text": [
            " 25%|██▌       | 50/200 [10:17<30:15, 12.10s/it]"
          ],
          "name": "stderr"
        },
        {
          "output_type": "stream",
          "text": [
            "E49 loss=[177.96,179.06] acc=[36.48,36.06]\n"
          ],
          "name": "stdout"
        },
        {
          "output_type": "stream",
          "text": [
            " 26%|██▌       | 51/200 [10:29<29:58, 12.07s/it]"
          ],
          "name": "stderr"
        },
        {
          "output_type": "stream",
          "text": [
            "E50 loss=[177.41,178.36] acc=[36.56,36.29]\n"
          ],
          "name": "stdout"
        },
        {
          "output_type": "stream",
          "text": [
            " 26%|██▌       | 52/200 [10:41<29:45, 12.07s/it]"
          ],
          "name": "stderr"
        },
        {
          "output_type": "stream",
          "text": [
            "E51 loss=[177.35,178.46] acc=[36.72,36.08]\n"
          ],
          "name": "stdout"
        },
        {
          "output_type": "stream",
          "text": [
            " 26%|██▋       | 53/200 [10:53<29:28, 12.03s/it]"
          ],
          "name": "stderr"
        },
        {
          "output_type": "stream",
          "text": [
            "E52 loss=[176.39,177.68] acc=[36.95,36.46]\n"
          ],
          "name": "stdout"
        },
        {
          "output_type": "stream",
          "text": [
            " 27%|██▋       | 54/200 [11:05<29:17, 12.04s/it]"
          ],
          "name": "stderr"
        },
        {
          "output_type": "stream",
          "text": [
            "E53 loss=[175.23,176.52] acc=[37.43,36.88]\n"
          ],
          "name": "stdout"
        },
        {
          "output_type": "stream",
          "text": [
            " 28%|██▊       | 55/200 [11:17<29:05, 12.04s/it]"
          ],
          "name": "stderr"
        },
        {
          "output_type": "stream",
          "text": [
            "E54 loss=[174.86,176.32] acc=[37.41,36.99]\n"
          ],
          "name": "stdout"
        },
        {
          "output_type": "stream",
          "text": [
            " 28%|██▊       | 56/200 [11:28<28:45, 11.98s/it]"
          ],
          "name": "stderr"
        },
        {
          "output_type": "stream",
          "text": [
            "E55 loss=[173.98,175.54] acc=[37.79,36.74]\n"
          ],
          "name": "stdout"
        },
        {
          "output_type": "stream",
          "text": [
            " 28%|██▊       | 57/200 [11:40<28:29, 11.96s/it]"
          ],
          "name": "stderr"
        },
        {
          "output_type": "stream",
          "text": [
            "E56 loss=[173.98,175.61] acc=[37.65,37.37]\n"
          ],
          "name": "stdout"
        },
        {
          "output_type": "stream",
          "text": [
            " 29%|██▉       | 58/200 [11:53<28:32, 12.06s/it]"
          ],
          "name": "stderr"
        },
        {
          "output_type": "stream",
          "text": [
            "E57 loss=[172.81,174.65] acc=[38.08,37.35]\n"
          ],
          "name": "stdout"
        },
        {
          "output_type": "stream",
          "text": [
            " 30%|██▉       | 59/200 [12:05<28:27, 12.11s/it]"
          ],
          "name": "stderr"
        },
        {
          "output_type": "stream",
          "text": [
            "E58 loss=[172.43,174.23] acc=[38.17,37.40]\n"
          ],
          "name": "stdout"
        },
        {
          "output_type": "stream",
          "text": [
            " 30%|███       | 60/200 [12:17<28:22, 12.16s/it]"
          ],
          "name": "stderr"
        },
        {
          "output_type": "stream",
          "text": [
            "E59 loss=[171.21,173.19] acc=[38.80,38.01]\n"
          ],
          "name": "stdout"
        },
        {
          "output_type": "stream",
          "text": [
            " 30%|███       | 61/200 [12:29<28:08, 12.15s/it]"
          ],
          "name": "stderr"
        },
        {
          "output_type": "stream",
          "text": [
            "E60 loss=[170.85,173.06] acc=[38.73,37.54]\n"
          ],
          "name": "stdout"
        },
        {
          "output_type": "stream",
          "text": [
            " 31%|███       | 62/200 [12:41<27:54, 12.13s/it]"
          ],
          "name": "stderr"
        },
        {
          "output_type": "stream",
          "text": [
            "E61 loss=[170.00,172.36] acc=[39.23,38.22]\n"
          ],
          "name": "stdout"
        },
        {
          "output_type": "stream",
          "text": [
            " 32%|███▏      | 63/200 [12:54<27:43, 12.14s/it]"
          ],
          "name": "stderr"
        },
        {
          "output_type": "stream",
          "text": [
            "E62 loss=[169.76,172.11] acc=[38.98,38.27]\n"
          ],
          "name": "stdout"
        },
        {
          "output_type": "stream",
          "text": [
            " 32%|███▏      | 64/200 [13:06<27:54, 12.31s/it]"
          ],
          "name": "stderr"
        },
        {
          "output_type": "stream",
          "text": [
            "E63 loss=[170.33,172.78] acc=[39.15,38.26]\n"
          ],
          "name": "stdout"
        },
        {
          "output_type": "stream",
          "text": [
            " 32%|███▎      | 65/200 [13:18<27:31, 12.23s/it]"
          ],
          "name": "stderr"
        },
        {
          "output_type": "stream",
          "text": [
            "E64 loss=[168.92,171.72] acc=[39.21,38.17]\n"
          ],
          "name": "stdout"
        },
        {
          "output_type": "stream",
          "text": [
            " 33%|███▎      | 66/200 [13:30<27:09, 12.16s/it]"
          ],
          "name": "stderr"
        },
        {
          "output_type": "stream",
          "text": [
            "E65 loss=[168.46,171.16] acc=[39.93,38.93]\n"
          ],
          "name": "stdout"
        },
        {
          "output_type": "stream",
          "text": [
            " 34%|███▎      | 67/200 [13:42<26:56, 12.15s/it]"
          ],
          "name": "stderr"
        },
        {
          "output_type": "stream",
          "text": [
            "E66 loss=[167.32,170.28] acc=[40.25,39.00]\n"
          ],
          "name": "stdout"
        },
        {
          "output_type": "stream",
          "text": [
            " 34%|███▍      | 68/200 [13:55<26:54, 12.23s/it]"
          ],
          "name": "stderr"
        },
        {
          "output_type": "stream",
          "text": [
            "E67 loss=[168.00,170.94] acc=[40.18,38.92]\n"
          ],
          "name": "stdout"
        },
        {
          "output_type": "stream",
          "text": [
            " 34%|███▍      | 69/200 [14:07<26:34, 12.17s/it]"
          ],
          "name": "stderr"
        },
        {
          "output_type": "stream",
          "text": [
            "E68 loss=[166.70,169.89] acc=[40.50,38.96]\n"
          ],
          "name": "stdout"
        },
        {
          "output_type": "stream",
          "text": [
            " 35%|███▌      | 70/200 [14:19<26:15, 12.12s/it]"
          ],
          "name": "stderr"
        },
        {
          "output_type": "stream",
          "text": [
            "E69 loss=[165.84,169.27] acc=[40.71,39.34]\n"
          ],
          "name": "stdout"
        },
        {
          "output_type": "stream",
          "text": [
            " 36%|███▌      | 71/200 [14:31<25:59, 12.09s/it]"
          ],
          "name": "stderr"
        },
        {
          "output_type": "stream",
          "text": [
            "E70 loss=[166.03,169.73] acc=[40.68,39.00]\n"
          ],
          "name": "stdout"
        },
        {
          "output_type": "stream",
          "text": [
            " 36%|███▌      | 72/200 [14:43<25:45, 12.07s/it]"
          ],
          "name": "stderr"
        },
        {
          "output_type": "stream",
          "text": [
            "E71 loss=[164.56,168.45] acc=[41.14,39.20]\n"
          ],
          "name": "stdout"
        },
        {
          "output_type": "stream",
          "text": [
            " 36%|███▋      | 73/200 [14:55<25:43, 12.15s/it]"
          ],
          "name": "stderr"
        },
        {
          "output_type": "stream",
          "text": [
            "E72 loss=[164.10,168.04] acc=[41.21,39.59]\n"
          ],
          "name": "stdout"
        },
        {
          "output_type": "stream",
          "text": [
            " 37%|███▋      | 74/200 [15:08<25:42, 12.24s/it]"
          ],
          "name": "stderr"
        },
        {
          "output_type": "stream",
          "text": [
            "E73 loss=[164.11,168.18] acc=[41.49,39.31]\n"
          ],
          "name": "stdout"
        },
        {
          "output_type": "stream",
          "text": [
            " 38%|███▊      | 75/200 [15:20<25:46, 12.37s/it]"
          ],
          "name": "stderr"
        },
        {
          "output_type": "stream",
          "text": [
            "E74 loss=[164.48,168.72] acc=[41.29,39.47]\n"
          ],
          "name": "stdout"
        },
        {
          "output_type": "stream",
          "text": [
            " 38%|███▊      | 76/200 [15:33<25:55, 12.55s/it]"
          ],
          "name": "stderr"
        },
        {
          "output_type": "stream",
          "text": [
            "E75 loss=[163.79,168.43] acc=[41.27,39.41]\n"
          ],
          "name": "stdout"
        },
        {
          "output_type": "stream",
          "text": [
            " 38%|███▊      | 77/200 [15:47<26:06, 12.74s/it]"
          ],
          "name": "stderr"
        },
        {
          "output_type": "stream",
          "text": [
            "E76 loss=[164.49,169.41] acc=[40.95,38.89]\n"
          ],
          "name": "stdout"
        },
        {
          "output_type": "stream",
          "text": [
            " 39%|███▉      | 78/200 [15:59<26:00, 12.79s/it]"
          ],
          "name": "stderr"
        },
        {
          "output_type": "stream",
          "text": [
            "E77 loss=[161.74,166.76] acc=[42.29,39.64]\n"
          ],
          "name": "stdout"
        },
        {
          "output_type": "stream",
          "text": [
            " 40%|███▉      | 79/200 [16:12<25:38, 12.71s/it]"
          ],
          "name": "stderr"
        },
        {
          "output_type": "stream",
          "text": [
            "E78 loss=[160.76,165.70] acc=[42.57,40.51]\n"
          ],
          "name": "stdout"
        },
        {
          "output_type": "stream",
          "text": [
            " 40%|████      | 80/200 [16:25<25:33, 12.78s/it]"
          ],
          "name": "stderr"
        },
        {
          "output_type": "stream",
          "text": [
            "E79 loss=[160.45,165.64] acc=[42.44,40.06]\n"
          ],
          "name": "stdout"
        },
        {
          "output_type": "stream",
          "text": [
            " 40%|████      | 81/200 [16:38<25:17, 12.75s/it]"
          ],
          "name": "stderr"
        },
        {
          "output_type": "stream",
          "text": [
            "E80 loss=[159.07,164.41] acc=[43.18,40.76]\n"
          ],
          "name": "stdout"
        },
        {
          "output_type": "stream",
          "text": [
            " 41%|████      | 82/200 [16:50<24:54, 12.66s/it]"
          ],
          "name": "stderr"
        },
        {
          "output_type": "stream",
          "text": [
            "E81 loss=[160.21,165.74] acc=[42.92,40.59]\n"
          ],
          "name": "stdout"
        },
        {
          "output_type": "stream",
          "text": [
            " 42%|████▏     | 83/200 [17:03<24:36, 12.62s/it]"
          ],
          "name": "stderr"
        },
        {
          "output_type": "stream",
          "text": [
            "E82 loss=[159.04,164.75] acc=[43.36,40.81]\n"
          ],
          "name": "stdout"
        },
        {
          "output_type": "stream",
          "text": [
            " 42%|████▏     | 84/200 [17:15<24:14, 12.54s/it]"
          ],
          "name": "stderr"
        },
        {
          "output_type": "stream",
          "text": [
            "E83 loss=[157.36,163.50] acc=[43.68,40.84]\n"
          ],
          "name": "stdout"
        },
        {
          "output_type": "stream",
          "text": [
            " 42%|████▎     | 85/200 [17:27<23:50, 12.44s/it]"
          ],
          "name": "stderr"
        },
        {
          "output_type": "stream",
          "text": [
            "E84 loss=[157.47,163.57] acc=[43.94,41.02]\n"
          ],
          "name": "stdout"
        },
        {
          "output_type": "stream",
          "text": [
            " 43%|████▎     | 86/200 [17:40<23:38, 12.44s/it]"
          ],
          "name": "stderr"
        },
        {
          "output_type": "stream",
          "text": [
            "E85 loss=[166.55,172.70] acc=[40.65,37.86]\n"
          ],
          "name": "stdout"
        },
        {
          "output_type": "stream",
          "text": [
            " 44%|████▎     | 87/200 [17:53<23:44, 12.61s/it]"
          ],
          "name": "stderr"
        },
        {
          "output_type": "stream",
          "text": [
            "E86 loss=[156.83,163.67] acc=[44.15,40.86]\n"
          ],
          "name": "stdout"
        },
        {
          "output_type": "stream",
          "text": [
            " 44%|████▍     | 88/200 [18:05<23:40, 12.69s/it]"
          ],
          "name": "stderr"
        },
        {
          "output_type": "stream",
          "text": [
            "E87 loss=[156.01,163.19] acc=[44.07,41.19]\n"
          ],
          "name": "stdout"
        },
        {
          "output_type": "stream",
          "text": [
            " 44%|████▍     | 89/200 [18:18<23:32, 12.73s/it]"
          ],
          "name": "stderr"
        },
        {
          "output_type": "stream",
          "text": [
            "E88 loss=[156.84,163.88] acc=[43.94,41.30]\n"
          ],
          "name": "stdout"
        },
        {
          "output_type": "stream",
          "text": [
            " 45%|████▌     | 90/200 [18:31<23:10, 12.64s/it]"
          ],
          "name": "stderr"
        },
        {
          "output_type": "stream",
          "text": [
            "E89 loss=[159.29,166.94] acc=[43.06,39.88]\n"
          ],
          "name": "stdout"
        },
        {
          "output_type": "stream",
          "text": [
            " 46%|████▌     | 91/200 [18:44<23:12, 12.78s/it]"
          ],
          "name": "stderr"
        },
        {
          "output_type": "stream",
          "text": [
            "E90 loss=[157.18,165.33] acc=[43.81,40.64]\n"
          ],
          "name": "stdout"
        },
        {
          "output_type": "stream",
          "text": [
            " 46%|████▌     | 92/200 [18:57<23:01, 12.79s/it]"
          ],
          "name": "stderr"
        },
        {
          "output_type": "stream",
          "text": [
            "E91 loss=[153.95,161.98] acc=[44.95,41.48]\n"
          ],
          "name": "stdout"
        },
        {
          "output_type": "stream",
          "text": [
            " 46%|████▋     | 93/200 [19:09<22:50, 12.80s/it]"
          ],
          "name": "stderr"
        },
        {
          "output_type": "stream",
          "text": [
            "E92 loss=[155.14,163.33] acc=[44.44,41.28]\n"
          ],
          "name": "stdout"
        },
        {
          "output_type": "stream",
          "text": [
            " 47%|████▋     | 94/200 [19:22<22:26, 12.70s/it]"
          ],
          "name": "stderr"
        },
        {
          "output_type": "stream",
          "text": [
            "E93 loss=[155.37,164.10] acc=[44.54,41.06]\n"
          ],
          "name": "stdout"
        },
        {
          "output_type": "stream",
          "text": [
            " 48%|████▊     | 95/200 [19:34<22:08, 12.65s/it]"
          ],
          "name": "stderr"
        },
        {
          "output_type": "stream",
          "text": [
            "E94 loss=[155.45,164.18] acc=[44.29,41.13]\n"
          ],
          "name": "stdout"
        },
        {
          "output_type": "stream",
          "text": [
            " 48%|████▊     | 96/200 [19:47<21:47, 12.57s/it]"
          ],
          "name": "stderr"
        },
        {
          "output_type": "stream",
          "text": [
            "E95 loss=[162.09,171.23] acc=[41.91,38.89]\n"
          ],
          "name": "stdout"
        },
        {
          "output_type": "stream",
          "text": [
            " 48%|████▊     | 97/200 [20:00<21:39, 12.62s/it]"
          ],
          "name": "stderr"
        },
        {
          "output_type": "stream",
          "text": [
            "E96 loss=[152.25,161.66] acc=[45.84,41.75]\n"
          ],
          "name": "stdout"
        },
        {
          "output_type": "stream",
          "text": [
            " 49%|████▉     | 98/200 [20:13<21:40, 12.75s/it]"
          ],
          "name": "stderr"
        },
        {
          "output_type": "stream",
          "text": [
            "E97 loss=[150.82,160.42] acc=[45.87,41.91]\n"
          ],
          "name": "stdout"
        },
        {
          "output_type": "stream",
          "text": [
            " 50%|████▉     | 99/200 [20:25<21:14, 12.61s/it]"
          ],
          "name": "stderr"
        },
        {
          "output_type": "stream",
          "text": [
            "E98 loss=[149.98,159.69] acc=[46.23,42.35]\n"
          ],
          "name": "stdout"
        },
        {
          "output_type": "stream",
          "text": [
            " 50%|█████     | 100/200 [20:38<21:08, 12.68s/it]"
          ],
          "name": "stderr"
        },
        {
          "output_type": "stream",
          "text": [
            "E99 loss=[155.55,165.85] acc=[44.34,40.84]\n"
          ],
          "name": "stdout"
        },
        {
          "output_type": "stream",
          "text": [
            " 50%|█████     | 101/200 [20:50<20:45, 12.58s/it]"
          ],
          "name": "stderr"
        },
        {
          "output_type": "stream",
          "text": [
            "E100 loss=[148.89,159.59] acc=[46.63,42.38]\n"
          ],
          "name": "stdout"
        },
        {
          "output_type": "stream",
          "text": [
            " 51%|█████     | 102/200 [21:03<20:29, 12.54s/it]"
          ],
          "name": "stderr"
        },
        {
          "output_type": "stream",
          "text": [
            "E101 loss=[148.31,159.33] acc=[46.91,42.74]\n"
          ],
          "name": "stdout"
        },
        {
          "output_type": "stream",
          "text": [
            " 52%|█████▏    | 103/200 [21:16<20:28, 12.67s/it]"
          ],
          "name": "stderr"
        },
        {
          "output_type": "stream",
          "text": [
            "E102 loss=[149.40,160.41] acc=[46.43,42.29]\n"
          ],
          "name": "stdout"
        },
        {
          "output_type": "stream",
          "text": [
            " 52%|█████▏    | 104/200 [21:29<20:32, 12.84s/it]"
          ],
          "name": "stderr"
        },
        {
          "output_type": "stream",
          "text": [
            "E103 loss=[146.93,158.41] acc=[47.54,43.17]\n"
          ],
          "name": "stdout"
        },
        {
          "output_type": "stream",
          "text": [
            " 52%|█████▎    | 105/200 [21:41<20:11, 12.75s/it]"
          ],
          "name": "stderr"
        },
        {
          "output_type": "stream",
          "text": [
            "E104 loss=[146.79,158.61] acc=[47.24,42.50]\n"
          ],
          "name": "stdout"
        },
        {
          "output_type": "stream",
          "text": [
            " 53%|█████▎    | 106/200 [21:54<19:54, 12.71s/it]"
          ],
          "name": "stderr"
        },
        {
          "output_type": "stream",
          "text": [
            "E105 loss=[155.11,166.73] acc=[44.79,41.39]\n"
          ],
          "name": "stdout"
        },
        {
          "output_type": "stream",
          "text": [
            " 54%|█████▎    | 107/200 [22:07<19:40, 12.70s/it]"
          ],
          "name": "stderr"
        },
        {
          "output_type": "stream",
          "text": [
            "E106 loss=[146.52,158.87] acc=[47.69,43.06]\n"
          ],
          "name": "stdout"
        },
        {
          "output_type": "stream",
          "text": [
            " 54%|█████▍    | 108/200 [22:20<19:46, 12.90s/it]"
          ],
          "name": "stderr"
        },
        {
          "output_type": "stream",
          "text": [
            "E107 loss=[147.60,160.11] acc=[47.34,43.09]\n"
          ],
          "name": "stdout"
        },
        {
          "output_type": "stream",
          "text": [
            " 55%|█████▍    | 109/200 [22:33<19:25, 12.81s/it]"
          ],
          "name": "stderr"
        },
        {
          "output_type": "stream",
          "text": [
            "E108 loss=[145.04,157.95] acc=[48.14,43.50]\n"
          ],
          "name": "stdout"
        },
        {
          "output_type": "stream",
          "text": [
            " 55%|█████▌    | 110/200 [22:45<19:03, 12.71s/it]"
          ],
          "name": "stderr"
        },
        {
          "output_type": "stream",
          "text": [
            "E109 loss=[144.65,157.80] acc=[48.17,43.10]\n"
          ],
          "name": "stdout"
        },
        {
          "output_type": "stream",
          "text": [
            " 56%|█████▌    | 111/200 [22:58<18:50, 12.70s/it]"
          ],
          "name": "stderr"
        },
        {
          "output_type": "stream",
          "text": [
            "E110 loss=[150.57,164.85] acc=[45.96,41.14]\n"
          ],
          "name": "stdout"
        },
        {
          "output_type": "stream",
          "text": [
            " 56%|█████▌    | 112/200 [23:10<18:33, 12.65s/it]"
          ],
          "name": "stderr"
        },
        {
          "output_type": "stream",
          "text": [
            "E111 loss=[144.15,158.32] acc=[48.00,43.48]\n"
          ],
          "name": "stdout"
        },
        {
          "output_type": "stream",
          "text": [
            " 56%|█████▋    | 113/200 [23:23<18:19, 12.63s/it]"
          ],
          "name": "stderr"
        },
        {
          "output_type": "stream",
          "text": [
            "E112 loss=[146.14,160.75] acc=[47.70,43.01]\n"
          ],
          "name": "stdout"
        },
        {
          "output_type": "stream",
          "text": [
            " 57%|█████▋    | 114/200 [23:35<18:01, 12.57s/it]"
          ],
          "name": "stderr"
        },
        {
          "output_type": "stream",
          "text": [
            "E113 loss=[143.08,157.74] acc=[48.37,43.24]\n"
          ],
          "name": "stdout"
        },
        {
          "output_type": "stream",
          "text": [
            " 57%|█████▊    | 115/200 [23:48<17:58, 12.69s/it]"
          ],
          "name": "stderr"
        },
        {
          "output_type": "stream",
          "text": [
            "E114 loss=[141.32,156.27] acc=[49.49,43.79]\n"
          ],
          "name": "stdout"
        },
        {
          "output_type": "stream",
          "text": [
            " 58%|█████▊    | 116/200 [24:01<17:42, 12.64s/it]"
          ],
          "name": "stderr"
        },
        {
          "output_type": "stream",
          "text": [
            "E115 loss=[142.07,157.88] acc=[49.10,43.56]\n"
          ],
          "name": "stdout"
        },
        {
          "output_type": "stream",
          "text": [
            " 58%|█████▊    | 117/200 [24:13<17:24, 12.58s/it]"
          ],
          "name": "stderr"
        },
        {
          "output_type": "stream",
          "text": [
            "E116 loss=[155.37,171.27] acc=[44.31,40.07]\n"
          ],
          "name": "stdout"
        },
        {
          "output_type": "stream",
          "text": [
            " 59%|█████▉    | 118/200 [24:26<17:04, 12.50s/it]"
          ],
          "name": "stderr"
        },
        {
          "output_type": "stream",
          "text": [
            "E117 loss=[144.25,160.83] acc=[48.38,42.93]\n"
          ],
          "name": "stdout"
        },
        {
          "output_type": "stream",
          "text": [
            " 60%|█████▉    | 119/200 [24:38<16:51, 12.49s/it]"
          ],
          "name": "stderr"
        },
        {
          "output_type": "stream",
          "text": [
            "E118 loss=[142.79,159.23] acc=[48.47,43.20]\n"
          ],
          "name": "stdout"
        },
        {
          "output_type": "stream",
          "text": [
            " 60%|██████    | 120/200 [24:51<16:40, 12.51s/it]"
          ],
          "name": "stderr"
        },
        {
          "output_type": "stream",
          "text": [
            "E119 loss=[151.10,168.39] acc=[46.39,40.50]\n"
          ],
          "name": "stdout"
        },
        {
          "output_type": "stream",
          "text": [
            " 60%|██████    | 121/200 [25:03<16:28, 12.51s/it]"
          ],
          "name": "stderr"
        },
        {
          "output_type": "stream",
          "text": [
            "E120 loss=[137.82,155.79] acc=[50.72,44.52]\n"
          ],
          "name": "stdout"
        },
        {
          "output_type": "stream",
          "text": [
            " 61%|██████    | 122/200 [25:16<16:30, 12.69s/it]"
          ],
          "name": "stderr"
        },
        {
          "output_type": "stream",
          "text": [
            "E121 loss=[138.01,156.12] acc=[50.84,44.38]\n"
          ],
          "name": "stdout"
        },
        {
          "output_type": "stream",
          "text": [
            " 62%|██████▏   | 123/200 [25:29<16:25, 12.79s/it]"
          ],
          "name": "stderr"
        },
        {
          "output_type": "stream",
          "text": [
            "E122 loss=[140.96,159.23] acc=[49.41,43.21]\n"
          ],
          "name": "stdout"
        },
        {
          "output_type": "stream",
          "text": [
            " 62%|██████▏   | 124/200 [25:42<16:02, 12.66s/it]"
          ],
          "name": "stderr"
        },
        {
          "output_type": "stream",
          "text": [
            "E123 loss=[136.88,155.50] acc=[50.57,44.12]\n"
          ],
          "name": "stdout"
        },
        {
          "output_type": "stream",
          "text": [
            " 62%|██████▎   | 125/200 [25:54<15:42, 12.57s/it]"
          ],
          "name": "stderr"
        },
        {
          "output_type": "stream",
          "text": [
            "E124 loss=[134.63,153.48] acc=[51.85,44.92]\n"
          ],
          "name": "stdout"
        },
        {
          "output_type": "stream",
          "text": [
            " 63%|██████▎   | 126/200 [26:06<15:28, 12.55s/it]"
          ],
          "name": "stderr"
        },
        {
          "output_type": "stream",
          "text": [
            "E125 loss=[139.78,159.18] acc=[49.70,43.08]\n"
          ],
          "name": "stdout"
        },
        {
          "output_type": "stream",
          "text": [
            " 64%|██████▎   | 127/200 [26:19<15:09, 12.46s/it]"
          ],
          "name": "stderr"
        },
        {
          "output_type": "stream",
          "text": [
            "E126 loss=[145.58,165.13] acc=[47.67,41.78]\n"
          ],
          "name": "stdout"
        },
        {
          "output_type": "stream",
          "text": [
            " 64%|██████▍   | 128/200 [26:31<14:56, 12.45s/it]"
          ],
          "name": "stderr"
        },
        {
          "output_type": "stream",
          "text": [
            "E127 loss=[136.58,157.11] acc=[50.83,44.11]\n"
          ],
          "name": "stdout"
        },
        {
          "output_type": "stream",
          "text": [
            " 64%|██████▍   | 129/200 [26:44<14:53, 12.59s/it]"
          ],
          "name": "stderr"
        },
        {
          "output_type": "stream",
          "text": [
            "E128 loss=[136.48,157.07] acc=[50.86,44.05]\n"
          ],
          "name": "stdout"
        },
        {
          "output_type": "stream",
          "text": [
            " 65%|██████▌   | 130/200 [26:57<14:48, 12.69s/it]"
          ],
          "name": "stderr"
        },
        {
          "output_type": "stream",
          "text": [
            "E129 loss=[135.47,156.48] acc=[51.69,44.33]\n"
          ],
          "name": "stdout"
        },
        {
          "output_type": "stream",
          "text": [
            " 66%|██████▌   | 131/200 [27:09<14:26, 12.56s/it]"
          ],
          "name": "stderr"
        },
        {
          "output_type": "stream",
          "text": [
            "E130 loss=[136.62,158.02] acc=[51.09,44.01]\n"
          ],
          "name": "stdout"
        },
        {
          "output_type": "stream",
          "text": [
            " 66%|██████▌   | 132/200 [27:22<14:12, 12.54s/it]"
          ],
          "name": "stderr"
        },
        {
          "output_type": "stream",
          "text": [
            "E131 loss=[131.55,153.99] acc=[52.62,44.59]\n"
          ],
          "name": "stdout"
        },
        {
          "output_type": "stream",
          "text": [
            " 66%|██████▋   | 133/200 [27:35<14:07, 12.65s/it]"
          ],
          "name": "stderr"
        },
        {
          "output_type": "stream",
          "text": [
            "E132 loss=[131.20,154.01] acc=[52.73,45.23]\n"
          ],
          "name": "stdout"
        },
        {
          "output_type": "stream",
          "text": [
            " 67%|██████▋   | 134/200 [27:47<13:58, 12.70s/it]"
          ],
          "name": "stderr"
        },
        {
          "output_type": "stream",
          "text": [
            "E133 loss=[132.26,155.45] acc=[52.24,44.72]\n"
          ],
          "name": "stdout"
        },
        {
          "output_type": "stream",
          "text": [
            " 68%|██████▊   | 135/200 [28:00<13:44, 12.69s/it]"
          ],
          "name": "stderr"
        },
        {
          "output_type": "stream",
          "text": [
            "E134 loss=[132.70,156.41] acc=[52.30,44.27]\n"
          ],
          "name": "stdout"
        },
        {
          "output_type": "stream",
          "text": [
            " 68%|██████▊   | 136/200 [28:13<13:28, 12.64s/it]"
          ],
          "name": "stderr"
        },
        {
          "output_type": "stream",
          "text": [
            "E135 loss=[153.46,177.13] acc=[45.82,39.09]\n"
          ],
          "name": "stdout"
        },
        {
          "output_type": "stream",
          "text": [
            " 68%|██████▊   | 137/200 [28:26<13:24, 12.77s/it]"
          ],
          "name": "stderr"
        },
        {
          "output_type": "stream",
          "text": [
            "E136 loss=[132.67,157.54] acc=[52.59,44.00]\n"
          ],
          "name": "stdout"
        },
        {
          "output_type": "stream",
          "text": [
            " 69%|██████▉   | 138/200 [28:38<13:09, 12.74s/it]"
          ],
          "name": "stderr"
        },
        {
          "output_type": "stream",
          "text": [
            "E137 loss=[132.39,156.96] acc=[51.77,44.07]\n"
          ],
          "name": "stdout"
        },
        {
          "output_type": "stream",
          "text": [
            " 70%|██████▉   | 139/200 [28:51<12:59, 12.79s/it]"
          ],
          "name": "stderr"
        },
        {
          "output_type": "stream",
          "text": [
            "E138 loss=[129.27,154.95] acc=[53.89,45.16]\n"
          ],
          "name": "stdout"
        },
        {
          "output_type": "stream",
          "text": [
            " 70%|███████   | 140/200 [29:04<12:38, 12.65s/it]"
          ],
          "name": "stderr"
        },
        {
          "output_type": "stream",
          "text": [
            "E139 loss=[126.43,152.14] acc=[54.64,45.40]\n"
          ],
          "name": "stdout"
        },
        {
          "output_type": "stream",
          "text": [
            " 70%|███████   | 141/200 [29:16<12:25, 12.64s/it]"
          ],
          "name": "stderr"
        },
        {
          "output_type": "stream",
          "text": [
            "E140 loss=[142.68,170.09] acc=[48.82,41.15]\n"
          ],
          "name": "stdout"
        },
        {
          "output_type": "stream",
          "text": [
            " 71%|███████   | 142/200 [29:29<12:08, 12.56s/it]"
          ],
          "name": "stderr"
        },
        {
          "output_type": "stream",
          "text": [
            "E141 loss=[128.49,155.09] acc=[53.34,44.85]\n"
          ],
          "name": "stdout"
        },
        {
          "output_type": "stream",
          "text": [
            " 72%|███████▏  | 143/200 [29:41<12:00, 12.65s/it]"
          ],
          "name": "stderr"
        },
        {
          "output_type": "stream",
          "text": [
            "E142 loss=[127.38,155.01] acc=[53.93,44.90]\n"
          ],
          "name": "stdout"
        },
        {
          "output_type": "stream",
          "text": [
            " 72%|███████▏  | 144/200 [29:54<11:52, 12.73s/it]"
          ],
          "name": "stderr"
        },
        {
          "output_type": "stream",
          "text": [
            "E143 loss=[138.83,166.93] acc=[50.07,42.52]\n"
          ],
          "name": "stdout"
        },
        {
          "output_type": "stream",
          "text": [
            " 72%|███████▎  | 145/200 [30:07<11:32, 12.59s/it]"
          ],
          "name": "stderr"
        },
        {
          "output_type": "stream",
          "text": [
            "E144 loss=[124.28,152.93] acc=[55.25,45.76]\n"
          ],
          "name": "stdout"
        },
        {
          "output_type": "stream",
          "text": [
            " 73%|███████▎  | 146/200 [30:19<11:17, 12.55s/it]"
          ],
          "name": "stderr"
        },
        {
          "output_type": "stream",
          "text": [
            "E145 loss=[139.02,168.35] acc=[49.57,41.72]\n"
          ],
          "name": "stdout"
        },
        {
          "output_type": "stream",
          "text": [
            " 74%|███████▎  | 147/200 [30:32<11:12, 12.69s/it]"
          ],
          "name": "stderr"
        },
        {
          "output_type": "stream",
          "text": [
            "E146 loss=[123.94,153.75] acc=[55.09,45.36]\n"
          ],
          "name": "stdout"
        },
        {
          "output_type": "stream",
          "text": [
            " 74%|███████▍  | 148/200 [30:45<11:02, 12.73s/it]"
          ],
          "name": "stderr"
        },
        {
          "output_type": "stream",
          "text": [
            "E147 loss=[127.25,157.42] acc=[53.92,44.55]\n"
          ],
          "name": "stdout"
        },
        {
          "output_type": "stream",
          "text": [
            " 74%|███████▍  | 149/200 [30:57<10:45, 12.65s/it]"
          ],
          "name": "stderr"
        },
        {
          "output_type": "stream",
          "text": [
            "E148 loss=[125.87,157.11] acc=[54.91,44.70]\n"
          ],
          "name": "stdout"
        },
        {
          "output_type": "stream",
          "text": [
            " 75%|███████▌  | 150/200 [31:10<10:29, 12.58s/it]"
          ],
          "name": "stderr"
        },
        {
          "output_type": "stream",
          "text": [
            "E149 loss=[127.50,158.93] acc=[53.77,44.22]\n"
          ],
          "name": "stdout"
        },
        {
          "output_type": "stream",
          "text": [
            " 76%|███████▌  | 151/200 [31:22<10:11, 12.47s/it]"
          ],
          "name": "stderr"
        },
        {
          "output_type": "stream",
          "text": [
            "E150 loss=[140.82,172.78] acc=[49.26,41.13]\n"
          ],
          "name": "stdout"
        },
        {
          "output_type": "stream",
          "text": [
            " 76%|███████▌  | 152/200 [31:35<10:05, 12.61s/it]"
          ],
          "name": "stderr"
        },
        {
          "output_type": "stream",
          "text": [
            "E151 loss=[124.09,157.06] acc=[55.14,44.91]\n"
          ],
          "name": "stdout"
        },
        {
          "output_type": "stream",
          "text": [
            " 76%|███████▋  | 153/200 [31:47<09:50, 12.55s/it]"
          ],
          "name": "stderr"
        },
        {
          "output_type": "stream",
          "text": [
            "E152 loss=[131.81,165.14] acc=[52.10,42.54]\n"
          ],
          "name": "stdout"
        },
        {
          "output_type": "stream",
          "text": [
            " 77%|███████▋  | 154/200 [32:00<09:38, 12.57s/it]"
          ],
          "name": "stderr"
        },
        {
          "output_type": "stream",
          "text": [
            "E153 loss=[125.69,158.91] acc=[54.67,44.01]\n"
          ],
          "name": "stdout"
        },
        {
          "output_type": "stream",
          "text": [
            " 78%|███████▊  | 155/200 [32:12<09:23, 12.52s/it]"
          ],
          "name": "stderr"
        },
        {
          "output_type": "stream",
          "text": [
            "E154 loss=[125.30,159.48] acc=[55.05,44.15]\n"
          ],
          "name": "stdout"
        },
        {
          "output_type": "stream",
          "text": [
            " 78%|███████▊  | 156/200 [32:25<09:09, 12.48s/it]"
          ],
          "name": "stderr"
        },
        {
          "output_type": "stream",
          "text": [
            "E155 loss=[126.84,162.09] acc=[54.17,43.67]\n"
          ],
          "name": "stdout"
        },
        {
          "output_type": "stream",
          "text": [
            " 78%|███████▊  | 157/200 [32:37<08:55, 12.45s/it]"
          ],
          "name": "stderr"
        },
        {
          "output_type": "stream",
          "text": [
            "E156 loss=[119.47,154.95] acc=[56.42,45.62]\n"
          ],
          "name": "stdout"
        },
        {
          "output_type": "stream",
          "text": [
            " 79%|███████▉  | 158/200 [32:50<08:42, 12.45s/it]"
          ],
          "name": "stderr"
        },
        {
          "output_type": "stream",
          "text": [
            "E157 loss=[117.36,153.02] acc=[57.84,46.11]\n"
          ],
          "name": "stdout"
        },
        {
          "output_type": "stream",
          "text": [
            " 80%|███████▉  | 159/200 [33:02<08:31, 12.47s/it]"
          ],
          "name": "stderr"
        },
        {
          "output_type": "stream",
          "text": [
            "E158 loss=[120.15,156.38] acc=[56.64,45.43]\n"
          ],
          "name": "stdout"
        },
        {
          "output_type": "stream",
          "text": [
            " 80%|████████  | 160/200 [33:15<08:18, 12.47s/it]"
          ],
          "name": "stderr"
        },
        {
          "output_type": "stream",
          "text": [
            "E159 loss=[119.04,155.91] acc=[57.16,45.39]\n"
          ],
          "name": "stdout"
        },
        {
          "output_type": "stream",
          "text": [
            " 80%|████████  | 161/200 [33:27<08:11, 12.59s/it]"
          ],
          "name": "stderr"
        },
        {
          "output_type": "stream",
          "text": [
            "E160 loss=[115.52,152.72] acc=[58.42,46.37]\n"
          ],
          "name": "stdout"
        },
        {
          "output_type": "stream",
          "text": [
            " 81%|████████  | 162/200 [33:40<07:57, 12.55s/it]"
          ],
          "name": "stderr"
        },
        {
          "output_type": "stream",
          "text": [
            "E161 loss=[127.34,166.24] acc=[54.42,43.08]\n"
          ],
          "name": "stdout"
        },
        {
          "output_type": "stream",
          "text": [
            " 82%|████████▏ | 163/200 [33:53<07:48, 12.66s/it]"
          ],
          "name": "stderr"
        },
        {
          "output_type": "stream",
          "text": [
            "E162 loss=[118.07,157.10] acc=[57.22,45.08]\n"
          ],
          "name": "stdout"
        },
        {
          "output_type": "stream",
          "text": [
            " 82%|████████▏ | 164/200 [34:06<07:38, 12.73s/it]"
          ],
          "name": "stderr"
        },
        {
          "output_type": "stream",
          "text": [
            "E163 loss=[133.37,172.67] acc=[51.28,42.32]\n"
          ],
          "name": "stdout"
        },
        {
          "output_type": "stream",
          "text": [
            " 82%|████████▎ | 165/200 [34:19<07:26, 12.77s/it]"
          ],
          "name": "stderr"
        },
        {
          "output_type": "stream",
          "text": [
            "E164 loss=[134.54,176.35] acc=[51.80,41.07]\n"
          ],
          "name": "stdout"
        },
        {
          "output_type": "stream",
          "text": [
            " 83%|████████▎ | 166/200 [34:31<07:09, 12.62s/it]"
          ],
          "name": "stderr"
        },
        {
          "output_type": "stream",
          "text": [
            "E165 loss=[130.63,172.75] acc=[52.84,41.42]\n"
          ],
          "name": "stdout"
        },
        {
          "output_type": "stream",
          "text": [
            " 84%|████████▎ | 167/200 [34:44<06:58, 12.70s/it]"
          ],
          "name": "stderr"
        },
        {
          "output_type": "stream",
          "text": [
            "E166 loss=[118.83,160.75] acc=[57.05,44.43]\n"
          ],
          "name": "stdout"
        },
        {
          "output_type": "stream",
          "text": [
            " 84%|████████▍ | 168/200 [34:56<06:43, 12.62s/it]"
          ],
          "name": "stderr"
        },
        {
          "output_type": "stream",
          "text": [
            "E167 loss=[118.34,161.00] acc=[57.04,44.07]\n"
          ],
          "name": "stdout"
        },
        {
          "output_type": "stream",
          "text": [
            " 84%|████████▍ | 169/200 [35:09<06:30, 12.60s/it]"
          ],
          "name": "stderr"
        },
        {
          "output_type": "stream",
          "text": [
            "E168 loss=[131.38,175.34] acc=[52.44,41.10]\n"
          ],
          "name": "stdout"
        },
        {
          "output_type": "stream",
          "text": [
            " 85%|████████▌ | 170/200 [35:21<06:16, 12.56s/it]"
          ],
          "name": "stderr"
        },
        {
          "output_type": "stream",
          "text": [
            "E169 loss=[124.78,169.41] acc=[55.14,43.49]\n"
          ],
          "name": "stdout"
        },
        {
          "output_type": "stream",
          "text": [
            " 86%|████████▌ | 171/200 [35:34<06:07, 12.68s/it]"
          ],
          "name": "stderr"
        },
        {
          "output_type": "stream",
          "text": [
            "E170 loss=[124.81,169.17] acc=[55.13,43.32]\n"
          ],
          "name": "stdout"
        },
        {
          "output_type": "stream",
          "text": [
            " 86%|████████▌ | 172/200 [35:47<05:58, 12.79s/it]"
          ],
          "name": "stderr"
        },
        {
          "output_type": "stream",
          "text": [
            "E171 loss=[125.34,171.37] acc=[54.94,42.60]\n"
          ],
          "name": "stdout"
        },
        {
          "output_type": "stream",
          "text": [
            " 86%|████████▋ | 173/200 [36:00<05:41, 12.65s/it]"
          ],
          "name": "stderr"
        },
        {
          "output_type": "stream",
          "text": [
            "E172 loss=[109.33,154.23] acc=[60.90,46.22]\n"
          ],
          "name": "stdout"
        },
        {
          "output_type": "stream",
          "text": [
            " 87%|████████▋ | 174/200 [36:12<05:27, 12.60s/it]"
          ],
          "name": "stderr"
        },
        {
          "output_type": "stream",
          "text": [
            "E173 loss=[111.27,157.57] acc=[59.76,45.40]\n"
          ],
          "name": "stdout"
        },
        {
          "output_type": "stream",
          "text": [
            " 88%|████████▊ | 175/200 [36:25<05:18, 12.72s/it]"
          ],
          "name": "stderr"
        },
        {
          "output_type": "stream",
          "text": [
            "E174 loss=[126.55,173.40] acc=[53.60,42.38]\n"
          ],
          "name": "stdout"
        },
        {
          "output_type": "stream",
          "text": [
            " 88%|████████▊ | 176/200 [36:37<05:02, 12.62s/it]"
          ],
          "name": "stderr"
        },
        {
          "output_type": "stream",
          "text": [
            "E175 loss=[117.92,164.19] acc=[57.13,43.65]\n"
          ],
          "name": "stdout"
        },
        {
          "output_type": "stream",
          "text": [
            " 88%|████████▊ | 177/200 [36:50<04:47, 12.52s/it]"
          ],
          "name": "stderr"
        },
        {
          "output_type": "stream",
          "text": [
            "E176 loss=[111.97,160.27] acc=[59.66,44.92]\n"
          ],
          "name": "stdout"
        },
        {
          "output_type": "stream",
          "text": [
            " 89%|████████▉ | 178/200 [37:02<04:33, 12.45s/it]"
          ],
          "name": "stderr"
        },
        {
          "output_type": "stream",
          "text": [
            "E177 loss=[116.97,166.40] acc=[58.04,44.15]\n"
          ],
          "name": "stdout"
        },
        {
          "output_type": "stream",
          "text": [
            " 90%|████████▉ | 179/200 [37:14<04:21, 12.43s/it]"
          ],
          "name": "stderr"
        },
        {
          "output_type": "stream",
          "text": [
            "E178 loss=[107.27,156.44] acc=[61.70,45.79]\n"
          ],
          "name": "stdout"
        },
        {
          "output_type": "stream",
          "text": [
            " 90%|█████████ | 180/200 [37:27<04:08, 12.44s/it]"
          ],
          "name": "stderr"
        },
        {
          "output_type": "stream",
          "text": [
            "E179 loss=[104.34,153.37] acc=[62.75,46.72]\n"
          ],
          "name": "stdout"
        },
        {
          "output_type": "stream",
          "text": [
            " 90%|█████████ | 181/200 [37:40<03:59, 12.62s/it]"
          ],
          "name": "stderr"
        },
        {
          "output_type": "stream",
          "text": [
            "E180 loss=[108.90,160.27] acc=[61.16,45.46]\n"
          ],
          "name": "stdout"
        },
        {
          "output_type": "stream",
          "text": [
            " 91%|█████████ | 182/200 [37:52<03:45, 12.55s/it]"
          ],
          "name": "stderr"
        },
        {
          "output_type": "stream",
          "text": [
            "E181 loss=[113.99,166.15] acc=[58.57,44.33]\n"
          ],
          "name": "stdout"
        },
        {
          "output_type": "stream",
          "text": [
            " 92%|█████████▏| 183/200 [38:04<03:30, 12.37s/it]"
          ],
          "name": "stderr"
        },
        {
          "output_type": "stream",
          "text": [
            "E182 loss=[114.58,167.87] acc=[58.21,43.62]\n"
          ],
          "name": "stdout"
        },
        {
          "output_type": "stream",
          "text": [
            " 92%|█████████▏| 184/200 [38:16<03:15, 12.21s/it]"
          ],
          "name": "stderr"
        },
        {
          "output_type": "stream",
          "text": [
            "E183 loss=[105.96,158.67] acc=[62.05,46.14]\n"
          ],
          "name": "stdout"
        },
        {
          "output_type": "stream",
          "text": [
            " 92%|█████████▎| 185/200 [38:28<03:01, 12.11s/it]"
          ],
          "name": "stderr"
        },
        {
          "output_type": "stream",
          "text": [
            "E184 loss=[115.17,167.43] acc=[58.03,44.18]\n"
          ],
          "name": "stdout"
        },
        {
          "output_type": "stream",
          "text": [
            " 93%|█████████▎| 186/200 [38:40<02:48, 12.01s/it]"
          ],
          "name": "stderr"
        },
        {
          "output_type": "stream",
          "text": [
            "E185 loss=[108.59,163.26] acc=[59.83,44.92]\n"
          ],
          "name": "stdout"
        },
        {
          "output_type": "stream",
          "text": [
            " 94%|█████████▎| 187/200 [38:52<02:35, 11.99s/it]"
          ],
          "name": "stderr"
        },
        {
          "output_type": "stream",
          "text": [
            "E186 loss=[106.92,161.30] acc=[61.72,45.25]\n"
          ],
          "name": "stdout"
        },
        {
          "output_type": "stream",
          "text": [
            " 94%|█████████▍| 188/200 [39:03<02:23, 11.92s/it]"
          ],
          "name": "stderr"
        },
        {
          "output_type": "stream",
          "text": [
            "E187 loss=[102.25,156.51] acc=[62.99,46.62]\n"
          ],
          "name": "stdout"
        },
        {
          "output_type": "stream",
          "text": [
            " 94%|█████████▍| 189/200 [39:16<02:12, 12.02s/it]"
          ],
          "name": "stderr"
        },
        {
          "output_type": "stream",
          "text": [
            "E188 loss=[107.29,162.85] acc=[60.85,45.04]\n"
          ],
          "name": "stdout"
        },
        {
          "output_type": "stream",
          "text": [
            " 95%|█████████▌| 190/200 [39:28<02:00, 12.06s/it]"
          ],
          "name": "stderr"
        },
        {
          "output_type": "stream",
          "text": [
            "E189 loss=[132.29,188.67] acc=[52.45,41.02]\n"
          ],
          "name": "stdout"
        },
        {
          "output_type": "stream",
          "text": [
            " 96%|█████████▌| 191/200 [39:40<01:49, 12.12s/it]"
          ],
          "name": "stderr"
        },
        {
          "output_type": "stream",
          "text": [
            "E190 loss=[113.38,170.52] acc=[57.76,43.32]\n"
          ],
          "name": "stdout"
        },
        {
          "output_type": "stream",
          "text": [
            " 96%|█████████▌| 192/200 [39:53<01:38, 12.26s/it]"
          ],
          "name": "stderr"
        },
        {
          "output_type": "stream",
          "text": [
            "E191 loss=[105.06,162.72] acc=[61.10,44.84]\n"
          ],
          "name": "stdout"
        },
        {
          "output_type": "stream",
          "text": [
            " 96%|█████████▋| 193/200 [40:05<01:25, 12.23s/it]"
          ],
          "name": "stderr"
        },
        {
          "output_type": "stream",
          "text": [
            "E192 loss=[119.85,178.40] acc=[55.72,42.41]\n"
          ],
          "name": "stdout"
        },
        {
          "output_type": "stream",
          "text": [
            " 97%|█████████▋| 194/200 [40:17<01:12, 12.14s/it]"
          ],
          "name": "stderr"
        },
        {
          "output_type": "stream",
          "text": [
            "E193 loss=[ 98.82,157.94] acc=[64.31,46.58]\n"
          ],
          "name": "stdout"
        },
        {
          "output_type": "stream",
          "text": [
            " 98%|█████████▊| 195/200 [40:29<01:00, 12.06s/it]"
          ],
          "name": "stderr"
        },
        {
          "output_type": "stream",
          "text": [
            "E194 loss=[ 97.38,157.87] acc=[65.32,46.93]\n"
          ],
          "name": "stdout"
        },
        {
          "output_type": "stream",
          "text": [
            " 98%|█████████▊| 196/200 [40:41<00:48, 12.18s/it]"
          ],
          "name": "stderr"
        },
        {
          "output_type": "stream",
          "text": [
            "E195 loss=[104.52,166.92] acc=[62.16,44.84]\n"
          ],
          "name": "stdout"
        },
        {
          "output_type": "stream",
          "text": [
            " 98%|█████████▊| 197/200 [40:53<00:36, 12.15s/it]"
          ],
          "name": "stderr"
        },
        {
          "output_type": "stream",
          "text": [
            "E196 loss=[102.38,163.95] acc=[61.78,44.90]\n"
          ],
          "name": "stdout"
        },
        {
          "output_type": "stream",
          "text": [
            " 99%|█████████▉| 198/200 [41:05<00:24, 12.13s/it]"
          ],
          "name": "stderr"
        },
        {
          "output_type": "stream",
          "text": [
            "E197 loss=[ 97.60,160.70] acc=[65.23,46.34]\n"
          ],
          "name": "stdout"
        },
        {
          "output_type": "stream",
          "text": [
            "100%|█████████▉| 199/200 [41:17<00:12, 12.09s/it]"
          ],
          "name": "stderr"
        },
        {
          "output_type": "stream",
          "text": [
            "E198 loss=[104.64,168.62] acc=[61.37,43.76]\n"
          ],
          "name": "stdout"
        },
        {
          "output_type": "stream",
          "text": [
            "100%|██████████| 200/200 [41:29<00:00, 12.45s/it]"
          ],
          "name": "stderr"
        },
        {
          "output_type": "stream",
          "text": [
            "E199 loss=[113.99,180.42] acc=[58.70,42.05]\n"
          ],
          "name": "stdout"
        },
        {
          "output_type": "stream",
          "text": [
            "\n"
          ],
          "name": "stderr"
        },
        {
          "output_type": "display_data",
          "data": {
            "image/png": "[encoded data removed]",
            "text/plain": [
              "<Figure size 1152x648 with 2 Axes>"
            ]
          },
          "metadata": {
            "tags": []
          }
        }
      ]
    },
    {
      "cell_type": "markdown",
      "metadata": {
        "id": "afraid-blink"
      },
      "source": [
        "El mejor modelo fue el segundo, que es el que usa más parámetros y considera todos los pixeles de la imagen. Para el tercer modelo, se esperaba un desempeño parecido al segundo, pero con la ventaja de que tenía menos parámetros, ya que se convierten las imágenes de color a escala de grises (promediando los canales), sin embargo, el desempeño es ligeramente superior al del primer modelo. \n",
        "\n",
        "Para los últimos dos modelos también podemos observar que dejarlos entrenar por más épocas no será de ayuda, ya que en las gráficas se puede apreciar como la trayectoria del conjunto de pruebas (tanto para pérdida como exactitud) se empieza a estancar, y no mejorar, mientras que el de entrenamiento sigue. Se podría decir que las épocas son las suficientes para evitar el fenómeno de _overfitting_"
      ],
      "id": "afraid-blink"
    }
  ]
}