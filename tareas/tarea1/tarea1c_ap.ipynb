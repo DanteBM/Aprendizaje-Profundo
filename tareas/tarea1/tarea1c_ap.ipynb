{
  "nbformat": 4,
  "nbformat_minor": 5,
  "metadata": {
    "kernelspec": {
      "display_name": "Python 3",
      "language": "python",
      "name": "python3"
    },
    "language_info": {
      "codemirror_mode": {
        "name": "ipython",
        "version": 3
      },
      "file_extension": ".py",
      "mimetype": "text/x-python",
      "name": "python",
      "nbconvert_exporter": "python",
      "pygments_lexer": "ipython3",
      "version": "3.8.5"
    },
    "colab": {
      "name": "tarea1c-ap.ipynb",
      "provenance": [],
      "include_colab_link": true
    }
  },
  "cells": [
    {
      "cell_type": "markdown",
      "metadata": {
        "id": "view-in-github",
        "colab_type": "text"
      },
      "source": [
        "<a href=\"https://colab.research.google.com/github/DanteBM/Aprendizaje-Profundo/blob/main/tareas/tarea1/tarea1c_ap.ipynb\" target=\"_parent\"><img src=\"https://colab.research.google.com/assets/colab-badge.svg\" alt=\"Open In Colab\"/></a>"
      ]
    },
    {
      "cell_type": "markdown",
      "metadata": {
        "id": "minus-watershed"
      },
      "source": [
        "# Pregunta 3: compuerta XOR\n",
        "> Entrena una red completamente conectada para aproximar la compuerta XOR. Puedes usar todas las herramientas de PyTorch. (3 puntos)"
      ],
      "id": "minus-watershed"
    },
    {
      "cell_type": "code",
      "metadata": {
        "id": "underlying-tsunami"
      },
      "source": [
        "import matplotlib.pyplot as plt\n",
        "plt.style.use(\"ggplot\")\n",
        "\n",
        "import numpy as np\n",
        "\n",
        "from sklearn.model_selection import train_test_split\n",
        "\n",
        "import torch\n",
        "\n",
        "import torch.nn as nn\n",
        "import torch.nn.functional as F\n",
        "import torch.optim as optim\n",
        "from torch.utils.data import DataLoader, TensorDataset"
      ],
      "id": "underlying-tsunami",
      "execution_count": null,
      "outputs": []
    },
    {
      "cell_type": "code",
      "metadata": {
        "id": "cognitive-plenty",
        "outputId": "af84053d-552c-43b3-e10f-fc759a822c12"
      },
      "source": [
        "X = torch.rand(100,2).round() # features binarios\n",
        "y = torch.where(X[:,0] == X[:,1], 0, 1).view(-1,1).type(torch.float32) # XOR\n",
        "X.shape, y.shape"
      ],
      "id": "cognitive-plenty",
      "execution_count": null,
      "outputs": [
        {
          "output_type": "execute_result",
          "data": {
            "text/plain": [
              "(torch.Size([100, 2]), torch.Size([100, 1]))"
            ]
          },
          "metadata": {
            "tags": []
          },
          "execution_count": 8
        }
      ]
    },
    {
      "cell_type": "code",
      "metadata": {
        "id": "british-ceremony"
      },
      "source": [
        "X_train, X_test, y_train, y_test = train_test_split(X,y, train_size=0.8)"
      ],
      "id": "british-ceremony",
      "execution_count": null,
      "outputs": []
    },
    {
      "cell_type": "code",
      "metadata": {
        "id": "persistent-solomon"
      },
      "source": [
        "dataset_train = TensorDataset(X_train,y_train)\n",
        "dataset_test = TensorDataset(X_test, y_test)"
      ],
      "id": "persistent-solomon",
      "execution_count": null,
      "outputs": []
    },
    {
      "cell_type": "code",
      "metadata": {
        "id": "ideal-intro"
      },
      "source": [
        "# tamaño del lote\n",
        "batch_size = 10\n",
        "\n",
        "# creamos un DataLoader\n",
        "dataloader_train = DataLoader(dataset_train, batch_size=batch_size, shuffle=True)\n",
        "dataloader_test = DataLoader(dataset_test, batch_size=batch_size, shuffle=True)"
      ],
      "id": "ideal-intro",
      "execution_count": null,
      "outputs": []
    },
    {
      "cell_type": "code",
      "metadata": {
        "id": "racial-dynamics"
      },
      "source": [
        "# optimizador\n",
        "def train(model, dl, epochs=5, verbose=False):\n",
        "    opt = optim.SGD(model.parameters(), lr=1e-3)\n",
        "\n",
        "    # historial de pérdida\n",
        "    loss_hist = []\n",
        "    loss_list = []\n",
        "\n",
        "    # ciclo de entrenamiento\n",
        "    for epoch in range(epochs):\n",
        "        # historial\n",
        "        loss_hist = []\n",
        "        \n",
        "        # entrenamiento de una época\n",
        "        for x, y_true in dl:\n",
        "            y_lgts = model(x)  # hacemos inferencia para obtener los logits\n",
        "            loss = F.binary_cross_entropy(y_lgts, y_true)  # calculamos de pérdida\n",
        "            opt.zero_grad()  # vaciamos los gradientes\n",
        "            loss.backward() # retropropagamos\n",
        "            opt.step() # actulizamos parámetros\n",
        "\n",
        "            loss_hist.append(loss.item() * 100) # guardamos historial de pérdida\n",
        "            \n",
        "        # imprimimos la pérdida de la época\n",
        "        loss = np.mean(loss_hist)\n",
        "        loss_list.append(loss)\n",
        "        if verbose:\n",
        "            print(f'E{epoch:02} loss=[{loss:6.2f}]')\n",
        "    \n",
        "    return loss_list"
      ],
      "id": "racial-dynamics",
      "execution_count": null,
      "outputs": []
    },
    {
      "cell_type": "code",
      "metadata": {
        "id": "collectible-rally",
        "outputId": "28f322ab-266c-432e-d42b-0b6eefdac5d3"
      },
      "source": [
        "dataloader_train.batch_size"
      ],
      "id": "collectible-rally",
      "execution_count": null,
      "outputs": [
        {
          "output_type": "execute_result",
          "data": {
            "text/plain": [
              "10"
            ]
          },
          "metadata": {
            "tags": []
          },
          "execution_count": 13
        }
      ]
    },
    {
      "cell_type": "code",
      "metadata": {
        "id": "sexual-christian",
        "outputId": "4f50cf4c-0086-45fa-beb9-3e241f2a2e80"
      },
      "source": [
        "len(dataloader_train)"
      ],
      "id": "sexual-christian",
      "execution_count": null,
      "outputs": [
        {
          "output_type": "execute_result",
          "data": {
            "text/plain": [
              "8"
            ]
          },
          "metadata": {
            "tags": []
          },
          "execution_count": 14
        }
      ]
    },
    {
      "cell_type": "code",
      "metadata": {
        "id": "aggregate-cheat"
      },
      "source": [
        "def eval_model(model, dl):\n",
        "    with torch.no_grad():\n",
        "        loss_list = []\n",
        "        accuracy_count = 0\n",
        "        for x, y_true in dl:\n",
        "            y_lgts = model(x)\n",
        "            loss = F.binary_cross_entropy(y_lgts, y_true)\n",
        "            loss_list.append(loss)\n",
        "            \n",
        "            y_pred = y_lgts.round()\n",
        "            accuracy_count += (y_pred == y_true).sum()\n",
        "        \n",
        "        accuracy = accuracy_count/(len(dl)*(dl.batch_size))\n",
        "        mean_loss = np.mean(loss_list)\n",
        "        \n",
        "        return accuracy, mean_loss"
      ],
      "id": "aggregate-cheat",
      "execution_count": null,
      "outputs": []
    },
    {
      "cell_type": "markdown",
      "metadata": {
        "id": "defined-transportation"
      },
      "source": [
        "## Propuesta minimalista"
      ],
      "id": "defined-transportation"
    },
    {
      "cell_type": "code",
      "metadata": {
        "id": "fewer-cedar"
      },
      "source": [
        "model1 = nn.Sequential(\n",
        "    nn.Linear(2,25),\n",
        "    nn.Sigmoid(),\n",
        "    nn.Linear(25,1),\n",
        "    nn.Sigmoid()\n",
        ")"
      ],
      "id": "fewer-cedar",
      "execution_count": null,
      "outputs": []
    },
    {
      "cell_type": "code",
      "metadata": {
        "id": "significant-basement",
        "outputId": "1f7f9b84-2786-4f37-fe58-8d9adc99d56c"
      },
      "source": [
        "loss_hist = train(model1, dataloader_train, epochs=1500)\n",
        "plt.plot(np.arange(1,len(loss_hist)+1),loss_hist)"
      ],
      "id": "significant-basement",
      "execution_count": null,
      "outputs": [
        {
          "output_type": "execute_result",
          "data": {
            "text/plain": [
              "[<matplotlib.lines.Line2D at 0x7f3aa2e57bb0>]"
            ]
          },
          "metadata": {
            "tags": []
          },
          "execution_count": 17
        },
        {
          "output_type": "display_data",
          "data": {
            "image/png": "[encoded data removed]",
            "text/plain": [
              "<Figure size 432x288 with 1 Axes>"
            ]
          },
          "metadata": {
            "tags": []
          }
        }
      ]
    },
    {
      "cell_type": "code",
      "metadata": {
        "id": "progressive-darwin",
        "outputId": "64f0a0ae-4803-4772-f4b6-3736ff2a9a3e"
      },
      "source": [
        "eval_model(model1, dataloader_test)"
      ],
      "id": "progressive-darwin",
      "execution_count": null,
      "outputs": [
        {
          "output_type": "execute_result",
          "data": {
            "text/plain": [
              "(tensor(0.3500), 0.7116779)"
            ]
          },
          "metadata": {
            "tags": []
          },
          "execution_count": 18
        }
      ]
    },
    {
      "cell_type": "markdown",
      "metadata": {
        "id": "respected-athletics"
      },
      "source": [
        "## Otra propuesta"
      ],
      "id": "respected-athletics"
    },
    {
      "cell_type": "code",
      "metadata": {
        "id": "historic-guarantee"
      },
      "source": [
        "model2 = nn.Sequential(\n",
        "    nn.Linear(2,25),\n",
        "    nn.ReLU(),\n",
        "    nn.Linear(25,12),\n",
        "    nn.ReLU(),\n",
        "    nn.Linear(12,1),\n",
        "    nn.Sigmoid()\n",
        ")"
      ],
      "id": "historic-guarantee",
      "execution_count": null,
      "outputs": []
    },
    {
      "cell_type": "code",
      "metadata": {
        "id": "broken-fifty",
        "outputId": "75d51077-5676-4642-8faa-fced20b2e211"
      },
      "source": [
        "loss_hist = train(model2, dataloader_train, epochs=1500)\n",
        "plt.plot(np.arange(1,len(loss_hist)+1),loss_hist)"
      ],
      "id": "broken-fifty",
      "execution_count": null,
      "outputs": [
        {
          "output_type": "execute_result",
          "data": {
            "text/plain": [
              "[<matplotlib.lines.Line2D at 0x7f3aa2d3efa0>]"
            ]
          },
          "metadata": {
            "tags": []
          },
          "execution_count": 20
        },
        {
          "output_type": "display_data",
          "data": {
            "image/png": "[encoded data removed]",
            "text/plain": [
              "<Figure size 432x288 with 1 Axes>"
            ]
          },
          "metadata": {
            "tags": []
          }
        }
      ]
    },
    {
      "cell_type": "code",
      "metadata": {
        "id": "italic-scottish",
        "outputId": "82adf124-9ebc-4443-d9f6-3fefa1a2eff8"
      },
      "source": [
        "eval_model(model2, dataloader_test)"
      ],
      "id": "italic-scottish",
      "execution_count": null,
      "outputs": [
        {
          "output_type": "execute_result",
          "data": {
            "text/plain": [
              "(tensor(1.), 0.5734221)"
            ]
          },
          "metadata": {
            "tags": []
          },
          "execution_count": 21
        }
      ]
    },
    {
      "cell_type": "markdown",
      "metadata": {
        "id": "numeric-helicopter"
      },
      "source": [
        "-------------\n",
        "Para la misma cantidad de épocas, el segundo modelo obtuvo un mejor desempeño, debido posiblemente a que hace uso de más capas y de la función de activación ReLU (ayuda al descenso del gradiente).\n",
        "\n",
        "Algo interesante a notar, es que el primer modelo seguramente puede mejorar su desempeño si se le deja una mayor cantidad de épocas, sin embargo, se puede notar una especie de ruido en su trayectoria, fenómeno que no sucede con el segundo modelo"
      ],
      "id": "numeric-helicopter"
    }
  ]
}